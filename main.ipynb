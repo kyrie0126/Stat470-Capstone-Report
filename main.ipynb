{
  "nbformat": 4,
  "nbformat_minor": 0,
  "metadata": {
    "colab": {
      "provenance": [],
      "collapsed_sections": [
        "DrDBj1kp3Wxm",
        "W4CFpbfpWGHI",
        "FD7Gz6YU0_Rj",
        "pIo98kq21GMy",
        "z1jRUmrICADm",
        "-X3isSiS2kji",
        "N3kcchPsCIWs",
        "poF1Ab_H4Wr1",
        "Z8iPJkwmKd6J",
        "m1UlnxcYKmWi",
        "Ua7ccG0DCPGa",
        "lgdlVQEjLZLu",
        "ibuByMfx4Y18",
        "0boKcCIMLfun",
        "Wk0gp-7pLh2N",
        "0n0fIfmuCbaO",
        "6tSwIzweO3a3",
        "ZPq1oQavOwEd",
        "DhUbGtXnfb0g",
        "0XG5RLmhs0Mq"
      ],
      "include_colab_link": true
    },
    "kernelspec": {
      "name": "python3",
      "display_name": "Python 3"
    }
  },
  "cells": [
    {
      "cell_type": "markdown",
      "metadata": {
        "id": "view-in-github",
        "colab_type": "text"
      },
      "source": [
        "<a href=\"https://colab.research.google.com/github/kyrie0126/Stat470-Capstone-Report/blob/main/main.ipynb\" target=\"_parent\"><img src=\"https://colab.research.google.com/assets/colab-badge.svg\" alt=\"Open In Colab\"/></a>"
      ]
    },
    {
      "cell_type": "markdown",
      "source": [
        "# Instructions"
      ],
      "metadata": {
        "id": "DrDBj1kp3Wxm"
      }
    },
    {
      "cell_type": "markdown",
      "metadata": {
        "id": "aqWCTpjK7uN6"
      },
      "source": [
        "Imagine you have been asked to write a report summarizing your statistical analysis of the project data.  This report might be submitted to an office that manages/regulates this area, people who work in the industry who might be looking to invest in new ideas, or the media. \n",
        "\n",
        "\n",
        " In this synthesis activity for Unit 4 your focus is to use Google Colaboratory to communicate your results.  While this task could be accomplished using a word doc, you are required to use the colab notebook (assignemnts submitted in any other format will receive a zero!)\n",
        "\n",
        "To successfully complete the report of your statistical analysis adhere to the sections outlined below\n",
        "\n",
        "Goals\n",
        "* Appropriate headings, the main title, then an 'Introduction', 'Analysis', 'Results', 'Discussion' and 'Code'\n",
        "* The introduction should contain your question and a brief description of the data\n",
        "* The analysis  should contain the results of the EDA and inferential models, along with any steps you took  to select or convert the observations or variables in preparation of your model  This must contain at least one table created with markdown\n",
        "*  The results should contain the results of your inferential model\n",
        "* The discussion should describe the results of the model in non-technical terms in a manner that conveys meaning to answer your question of interest\n",
        "* The code should contain the complete code to replicate your analysis including the appropriate comments"
      ]
    },
    {
      "cell_type": "markdown",
      "metadata": {
        "id": "LYtA3IYFBagS"
      },
      "source": [
        "Task 1:  Use the heading 'Introduction' and write an introduction containing your question and a brief description of the data"
      ]
    },
    {
      "cell_type": "markdown",
      "metadata": {
        "id": "g8LwWtuMBozk"
      },
      "source": [
        "Task 2: Use the heading 'Analysis' and write the results of the EDA and inferential models, along with any steps you took to select or convert the observations or variables in preparation of your model.  You must clearly state the assuptions for the kind of statistical test you are using.  You must clearly state how you tested the assumptions and whether or not these were met.  This must contain at least one table created with markdown or Tabulate"
      ]
    },
    {
      "cell_type": "markdown",
      "metadata": {
        "id": "EoIXVg09CAyp"
      },
      "source": [
        "Task 3:  Use the heading 'Results' and write the results of your inferential model"
      ]
    },
    {
      "cell_type": "markdown",
      "metadata": {
        "id": "2qmbY1xOCIt0"
      },
      "source": [
        "Task 4:  Use the heading 'Discussion' and describe the results of the model in non-technical terms in a manner that conveys meaning to answer your question of interest"
      ]
    },
    {
      "cell_type": "markdown",
      "metadata": {
        "id": "SUZWXU3jCQFT"
      },
      "source": [
        "Taks 5: Use the heading 'Code' containing the complete code to replicate your analysis including the appropriate comments"
      ]
    },
    {
      "cell_type": "markdown",
      "metadata": {
        "id": "W4CFpbfpWGHI"
      },
      "source": [
        "# Introduction\n",
        "\n"
      ]
    },
    {
      "cell_type": "markdown",
      "source": [
        "### Background\n"
      ],
      "metadata": {
        "id": "FD7Gz6YU0_Rj"
      }
    },
    {
      "cell_type": "markdown",
      "source": [
        "The spotify dataset contains data from 2017 to present concerning the top 200 streamed songs. The variables used in analysis include Tempo, Speechiness, and Danceability. Tempo was measured as the overall tempo of the song measured in beats per minute. Speechiness detected the presence of words in a track. A value of 0.0 indicated no words while a value of 1.0 indicated words spanning the entire song. Danceability described how suitable a track was for dancing based on a combination of musical elements including tempo, rhythm stability, beat strength, and overall regularity. A value of 0.0 is least danceable and 1.0 is most danceable. This analysis aimed to investigate the relationship between Tempo and Speechiness on Danceability.\n",
        "<br>\n",
        "<br>"
      ],
      "metadata": {
        "id": "X_nhZ5N02WHx"
      }
    },
    {
      "cell_type": "markdown",
      "source": [
        "### Research Question\n"
      ],
      "metadata": {
        "id": "pIo98kq21GMy"
      }
    },
    {
      "cell_type": "markdown",
      "source": [
        "\n",
        "Does the Tempo and Speechiness of a track predict Danceability?"
      ],
      "metadata": {
        "id": "ERgQd-962bnm"
      }
    },
    {
      "cell_type": "markdown",
      "metadata": {
        "id": "z1jRUmrICADm"
      },
      "source": [
        "# Analysis\n"
      ]
    },
    {
      "cell_type": "markdown",
      "source": [
        "### Preliminary Exploration"
      ],
      "metadata": {
        "id": "-X3isSiS2kji"
      }
    },
    {
      "cell_type": "markdown",
      "source": [
        "#####<center>**Datatypes**<center/>\n",
        "Variable | Datatype\n",
        "--- | ---\n",
        "Tempo | Float64\n",
        "Speechiness | Float64\n",
        "Danceability | Float64\n",
        "\n",
        "All variables are stored as floats, no need for recategorization.\n",
        "\n",
        "<br>\n",
        "<br>\n",
        "\n",
        "#####<center>**Missing Values**<center/>\n",
        "Variable | Missing Values\n",
        "--- | ---\n",
        "Tempo | <center>0<center/>\n",
        "Speechiness | <center>0<center/>\n",
        "Danceability | <center>0<center/>\n",
        "\n",
        "No missing values.\n",
        "\n",
        "<br>\n",
        "<br>"
      ],
      "metadata": {
        "id": "BGw9jsXl1RWq"
      }
    },
    {
      "cell_type": "markdown",
      "source": [
        "### Descriptive Statistics"
      ],
      "metadata": {
        "id": "M796RCPs2ol5"
      }
    },
    {
      "cell_type": "markdown",
      "source": [
        "#####<center>Descriptive Statistics<center/>\n",
        "Metric | Tempo | Speechiness | Danceability\n",
        "--- | --- | --- | ---\n",
        "**count** | <center>200.00 | <center>200.00 | <center>200.00\n",
        "**mean** | <center>125.48 | <center>0.13 | <center>0.70\n",
        "**std** | <center>30.47 | <center>0.12 | <center>0.14\n",
        "**min** | <center>64.06 | <center>0.03 | <center>0.18\n",
        "**25%** | <center>101.96 | <center>0.04 | <center>0.61\n",
        "**50%** | <center>125.01 | <center>0.07 | <center>0.72\n",
        "**75%** | <center>145.26 | <center>0.17 | <center>0.81\n",
        "**max** | <center>203.90 | <center>0.88 | <center>0.96\n",
        "\n",
        "Each variable has 200 observations. The values of Tempo range between 64 and 204. Meanwhile, Speechiness and Danceability range between 0 and 1. Because of this difference, the descriptive metrics for Tempo are much larger than Speechiness and Dancebaility.\n",
        "\n",
        "<br>\n",
        "<br>\n"
      ],
      "metadata": {
        "id": "3GRmkT2j1RNr"
      }
    },
    {
      "cell_type": "markdown",
      "source": [
        "### Univariate Analysis"
      ],
      "metadata": {
        "id": "1iuJCW1T2t7Q"
      }
    },
    {
      "cell_type": "markdown",
      "source": [
        "![Tempo_Dist.png](data:image/png;base64,iVBORw0KGgoAAAANSUhEUgAAAWAAAAFgCAYAAACFYaNMAAAABHNCSVQICAgIfAhkiAAAAAlwSFlzAAALEgAACxIB0t1+/AAAADh0RVh0U29mdHdhcmUAbWF0cGxvdGxpYiB2ZXJzaW9uMy4yLjIsIGh0dHA6Ly9tYXRwbG90bGliLm9yZy+WH4yJAAAVPklEQVR4nO3df5BdZ33f8fcnkvwDcGK72jiqsSQnECeETGSzdjHQGOyQCqatoeMQSIaYBqqUQCamDI2BTgvTZAYSgtNmUjNK7Fg0rsEYEzuUGAwxYugEubIjyzLCwQHLPyKsVYljSKe2JX/7xzmKt6pWXtk657m7+37N3Ln3Pufc+3z3aO9H5z7nnGdTVUiSxvc9rQuQpKXKAJakRgxgSWrEAJakRgxgSWpkeesC5mP9+vV10003tS5Dkp6uHKpxQewB7927t3UJknTULYgAlqTFyACWpEYMYElqxACWpEYMYElqxACWpEYMYElqxACWpEYMYElqxACWpEYMYElqxACWpEYMYElqxADWRFq9Zi1JRrmtXrO29Y+rJWpBzAespef++3axedc405Cet2blKP1IB3MPWJIaMYAlqREDWJIaMYAlqREDWJIaMYAlqREDWJIaMYAlqREDWJIaMYAlqREDWJIaGSyAkxyX5NYkdyS5K8n7+/arknwzybb+tm6oGiRpkg05Gc+jwPlV9d0kK4AvJ/nTftm7quq6AfuWpIk3WABXVQHf7Z+u6G81VH+StNAMOgacZFmSbcAe4Oaq2tIv+o0k25NcluTYOV67IcnWJFtnZmaGLFOSmhg0gKtqf1WtA54LnJPkhcC7gR8BzgZOBn5tjtdurKrpqpqempoaskxJamKUsyCq6mHgFmB9Ve2uzqPAHwLnjFGDJE2aIc+CmEpyYv/4eOCVwNeSrOrbArwG2DFUDZI0yYY8C2IVsCnJMrqgv7aqPp3kz5JMAQG2Af96wBokaWINeRbEduDMQ7SfP1SfkrSQeCWcJDViAEtSIwawJDViAEtSIwawJDViAEtSIwawJDViAEtSIwawJDViAEtSIwawJDViAEtSIwawJDViAEtSIwawJDViAEtSIwawJDViAEtSIwawJDViAEtSIwawJDViAEtSIwawJDViAEtSIwawJDViAEtSIwawlrxly1eQZLTb6jVrW//ImhDLWxcgtbZ/3+Ns3rV3tP7OW7NytL402dwDlqRGDGBJamSwAE5yXJJbk9yR5K4k7+/bT0+yJck9ST6e5JihapCkSTbkHvCjwPlV9RPAOmB9khcDHwQuq6rnAX8DvHnAGiRpYg0WwNX5bv90RX8r4Hzgur59E/CaoWqQpEk26BhwkmVJtgF7gJuBvwIerqp9/SoPAKfO8doNSbYm2TozMzNkmZLUxKABXFX7q2od8FzgHOBHjuC1G6tquqqmp6amBqtRkloZ5SyIqnoYuAU4FzgxyYHzj58LPDhGDZI0aYY8C2IqyYn94+OBVwI76YL4on61i4EbhqpBkibZkFfCrQI2JVlGF/TXVtWnk3wV+FiSXwf+ArhiwBokaWINFsBVtR048xDt36AbD5akJc0r4SSpEQNYkhoxgI+S1WvWOqWhpCPidJRHyf337XJKQ0lHxD1gSWrEAJakRgxgSWrEAJakRgxgSWrEAJakRgxgSWrEAJakRgxgSWrEAJakRgxgSWrEAJakRgxgSWrEAJakRgxgSWrEAJakRgxgSWrEAJakRgxgSWrEAJakRgxgSWrEAJakRgxgSWrEAJakRgxgSWrEAJakRgxgSWpksABOclqSW5J8NcldSX61b39fkgeTbOtvrx6qBkmaZMsHfO99wDur6vYkJwC3Jbm5X3ZZVX1owL4laeINFsBVtRvY3T/+TpKdwKlD9SdJC80oY8BJ1gJnAlv6prcn2Z7kyiQnzfGaDUm2Jtk6MzMzRpmSNKrBAzjJc4BPApdU1SPA5cAPAevo9pB/+1Cvq6qNVTVdVdNTU1NDlylJoxs0gJOsoAvfq6vqeoCqeqiq9lfVE8DvA+cMWYMkTaohz4IIcAWws6o+PKt91azVXgvsGKoGSZpkQ54F8VLgjcCdSbb1be8B3pBkHVDAvcAvDViDJE2sIc+C+DKQQyz6zFB9StJC4pVwktSIASxJjRjAmpfVa9aSZLSbtBQMeRBOi8j99+1i8669o/V33pqVo/UlteIesCQ1YgBLUiMGsCQ1YgBLUiMGsCQ1YgBLUiOehrZALVu+wvNlpQXOAF6g9u973PNypQXOIQhJasQAlqRGDGBJasQAlqRGDGBJasQAlqRGDGBJasQAlqRGDGBJasQAlqRGDGBJasQAlqRGDGBJasQAlqRG5hXASV46nzZJ0vzNdw/4d+fZJkmap8NOyJ7kXOAlwFSSfzNr0fcCy4YsTJIWu6f6ixjHAM/p1zthVvsjwEVDFSVJS8FhA7iqNgObk1xVVbuO5I2TnAZ8FDgFKGBjVf2nJCcDHwfWAvcCr6uqv3katUvSgjbfvwl3bJKNdKH596+pqvMP85p9wDur6vYkJwC3JbkZeBPwhar6QJJLgUuBX3s6xUvSQjbfAP4E8BHgD4D983lBVe0GdvePv5NkJ3AqcCHw8n61TcAXMYAlLUHzDeB9VXX50+0kyVrgTGALcEofzgDfohuikKQlZ76nof1Jkl9OsirJyQdu83lhkucAnwQuqapHZi+rqqIbHz7U6zYk2Zpk68zMzDzLlKSFY757wBf39++a1VbADx7uRUlW0IXv1VV1fd/8UJJVVbU7ySpgz6FeW1UbgY0A09PThwxpSVrI5hXAVXX6kb5xkgBXADur6sOzFt1IF+gf6O9vONL3lqTFYF4BnOQXDtVeVR89zMteCrwRuDPJtr7tPXTBe22SNwO7gNfNv1xJWjzmOwRx9qzHxwEXALfTned7SFX1ZSBzLL5gnv1K0qI13yGIX5n9PMmJwMcGqUiSloinOx3l3wFHPC4sSXrSfMeA/4QnTxdbBvwocO1QRUmL2bLlK+iOUY/jtNVruG/XvaP1p/mb7xjwh2Y93gfsqqoHBqhHWvT273uczbv2jtbfeWtWjtaXjsy8hiD6SXm+Rjcj2knAY0MWJUlLwXz/IsbrgFuBn6E7bWxLEqejlKRnYL5DEO8Fzq6qPQBJpoDPA9cNVZgkLXbzPQview6Eb+9/HcFrJUmHMN894JuSfBa4pn/+s8BnhilJkpaGp/qbcM+jmz7yXUn+BfCyftGfA1cPXZwkLWZPtQf8O8C7AfrZzK4HSPLj/bJ/Nmh1krSIPdU47ilVdefBjX3b2kEqkqQl4qkC+MTDLDv+aBYiSUvNUwXw1iT/6uDGJG8BbhumJElaGp5qDPgS4FNJfp4nA3caOAZ47ZCFSdJid9gArqqHgJckeQXwwr75v1fVnw1emSQtcvOdD/gW4JaBa5GkJcWr2SSpEQNYkhoxgCWpEQNYkhoxgCWpEQNYkhoxgCWpEQNYkhoxgCWpEQNYkhoxgCWpEQNYkhoxgCWpEQNYkhoZLICTXJlkT5Ids9rel+TBJNv626uH6l+SJt2Qe8BXAesP0X5ZVa3rb58ZsH9JmmiDBXBVfQn49lDvL0kLXYsx4Lcn2d4PUZw010pJNiTZmmTrzMzMmPVJi8qy5StIMspt9Zq1rX/cBWVef5LoKLoc+I9A9fe/DfzioVasqo3ARoDp6ekaq0Bpsdm/73E279o7Sl/nrVk5Sj+Lxah7wFX1UFXtr6ongN8Hzhmzf0maJKMGcJJVs56+Ftgx17qStNgNNgSR5Brg5cDKJA8A/wF4eZJ1dEMQ9wK/NFT/kjTpBgvgqnrDIZqvGKo/SVpovBJOkhoxgCWpEQNYkhoxgCWpEQNYkhoxgCWpEQNYkhoxgCWpEQNYkhoxgCWpEQNYkhoxgCWpEQNYkhoxgCWpEQNYkhoxgCWpEQNYkhoxgCWpEQNYkhoxgCWpEQNYkhoxgCWpEQNYkhoxgCWpEQNYkhoxgCWpEQNY0lGzbPkKkox2W71mbesf+RlZ3roASYvH/n2Ps3nX3tH6O2/NytH6GoJ7wJLUiAEsSY0MFsBJrkyyJ8mOWW0nJ7k5ydf7+5OG6l+SJt2Qe8BXAesParsU+EJVPR/4Qv9ckpakwQK4qr4EfPug5guBTf3jTcBrhupfkibd2GPAp1TV7v7xt4BTRu5fkiZGs4NwVVVAzbU8yYYkW5NsnZmZGbEySRrH2AH8UJJVAP39nrlWrKqNVTVdVdNTU1OjFShJYxk7gG8ELu4fXwzcMHL/kjQxhjwN7Rrgz4EzkjyQ5M3AB4BXJvk68FP9c0lakga7FLmq3jDHoguG6lOSFhKvhJOkRgxgSWrEAJakRhZ1AK9es3a0eUkl6Ugt6vmA779v12hzky70eUkljW9R7wFL0iQzgCWpEQNYkhoxgCWpEQNYkhoxgCWpEQNYkhoxgCWpEQNYkhoxgCWpEQNYkhoxgCWpEQNYkhoxgCWpEQNYkhoxgCWpEQNYkhoxgCWpEQNYkhoxgCWpEQNYkhoxgCWpEQNYkhoxgCWpEQNYkhoxgCWpkeUtOk1yL/AdYD+wr6qmW9QhSS01CeDeK6pqb8P+JakphyAkqZFWAVzA55LclmTDoVZIsiHJ1iRbZ2ZmRi5PkobXKoBfVlVnAa8C3pbkJw9eoao2VtV0VU1PTU2NX6EkDaxJAFfVg/39HuBTwDkt6pCklkYP4CTPTnLCgcfATwM7xq5DklprcRbEKcCnkhzo/79V1U0N6pCkpkYP4Kr6BvATY/crSZPG09AkqREDWJIaMYAlqREDWJIaMYAlqREDWJIaMYAlqREDWJIaMYAlqREDWJIaMYAlqREDWJIaMYAlqREDWJIaMYAlqREDWJIaMYAlqREDWJIaMYAlLVjLlq8gyWi31WvWHtX6W/xRTkk6Kvbve5zNu/aO1t95a1Ye1fdzD1iSGjGAJakRA1iSGjGAJakRA1iSGjGAJakRA1iSGjGAJakRA1iSGjGAJakRA1iSGmkSwEnWJ7k7yT1JLm1RgyS1NnoAJ1kG/B7wKuAFwBuSvGDsOiSptRZ7wOcA91TVN6rqMeBjwIUN6pCkplJV43aYXASsr6q39M/fCPyjqnr7QettADb0T88A7j7E260ExpuL7shMcm1gfc/EJNcGk13fJNcGw9W3t6rWH9w4sfMBV9VGYOPh1kmytaqmRyrpiExybWB9z8Qk1waTXd8k1wbj19diCOJB4LRZz5/bt0nSktIigP8n8Pwkpyc5Bng9cGODOiSpqdGHIKpqX5K3A58FlgFXVtVdT/PtDjtE0dgk1wbW90xMcm0w2fVNcm0wcn2jH4STJHW8Ek6SGjGAJamRBRPASU5Mcl2SryXZmeTcJCcnuTnJ1/v7kxrW944kdyXZkeSaJMf1Bxq39Jdcf7w/6DhWPVcm2ZNkx6y2Q26vdP5zX+f2JGc1qO23+n/b7Uk+leTEWcve3dd2d5J/MmRtc9U3a9k7k1SSlf3z5tuub/+VfvvdleQ3Z7U333ZJ1iX5SpJtSbYmOadvH3vbnZbkliRf7bfTr/bt7T4XVbUgbsAm4C3942OAE4HfBC7t2y4FPtiotlOBbwLH98+vBd7U37++b/sI8NYRa/pJ4Cxgx6y2Q24v4NXAnwIBXgxsaVDbTwPL+8cfnFXbC4A7gGOB04G/ApaNXV/ffhrdweNdwMoJ2navAD4PHNs///5J2nbA54BXzdpeX2y07VYBZ/WPTwD+st9GzT4XC2IPOMn30f3DXgFQVY9V1cN0lzBv6lfbBLymTYVAd0bJ8UmWA88CdgPnA9f1y0etr6q+BHz7oOa5tteFwEer8xXgxCSrxqytqj5XVfv6p1+hOz/8QG0fq6pHq+qbwD10l7MPZo5tB3AZ8G+B2Ueum2874K3AB6rq0X6dPbNqm4RtV8D39o+/D/jrWfWNue12V9Xt/ePvADvpdp6afS4WRADT/e89A/xhkr9I8gdJng2cUlW7+3W+BZzSoriqehD4EHAfXfD+LXAb8PCsUHmA7h+7pbm216nA/bPWa13rL9LtecCE1JbkQuDBqrrjoEWTUN8PA/+4H+7anOTsCaoN4BLgt5LcT/c5eXff3qy+JGuBM4EtNPxcLJQAXk73tebyqjoT+Du6rwp/r7rvDE3OqevHjC6k+4/iHwLPBv6/674nScvtdThJ3gvsA65uXcsBSZ4FvAf4961rmcNy4GS6r8nvAq5NkrYl/T/eCryjqk4D3kH/TbaVJM8BPglcUlWPzF429udioQTwA8ADVbWlf34dXSA/dOArQX+/Z47XD+2ngG9W1UxVPQ5cD7yU7ivLgYtdJuGS67m210RcHp7kTcA/BX6+/yDAZNT2Q3T/ud6R5N6+htuT/MCE1PcAcH3/VflW4Am6SWUmoTaAi+k+EwCf4MlhkNHrS7KCLnyvrqoDNTX7XCyIAK6qbwH3Jzmjb7oA+CrdJcwX920XAzc0KA+6oYcXJ3lWv+dxoL5bgIsmoL4D5tpeNwK/0B/1fTHwt7O+ko0iyXq68dV/XlX/e9aiG4HXJzk2yenA84Fbx6ytqu6squ+vqrVVtZYu8M7qfy+bbzvgj+kOxJHkh+kOUu9lArZd76+B8/rH5wNf7x+Puu36z+YVwM6q+vCsRe0+F0MedTyaN2AdsBXYTvcLdxLwD4Av0P2Dfh44uWF97we+BuwA/ivdkecfpPuFv4fuf/5jR6znGrrx6MfpAuPNc20vuqO8v0d3lPxOYLpBbffQjbdt628fmbX+e/va7qY/mj52fQctv5cnz4KYhG13DPBH/e/e7cD5k7TtgJfRHRO5g27M9UWNtt3L6IYXts/6PXt1y8+FlyJLUiMLYghCkhYjA1iSGjGAJakRA1iSGjGAJamRif2jnNJ8JTlwGhHADwD76S5dBzinqh5rUpj0FDwNTYtKkvcB362qD7WuRXoqDkFoUUryon5imtuSfHbWpaZfTHJZPy/tziRnJ7m+nwv21/t11vZz617dr3NdPx8ESS7oJ4S6s5/79tiWP6cWNgNYi1GA3wUuqqoXAVcCvzFr+WNVNU03R/MNwNuAFwJv6oczAM4A/ktV/SjwCPDLSY4DrgJ+tqp+nG4I760j/DxapAxgLUbH0gXqzUm2Af+OJ+cXhu4af+guL72runliHwW+wZOTr9xfVf+jf/xHdJexnkE36dJf9u2b6Oaplp4WD8JpMQpdsJ47x/JH+/snZj0+8PzAZ+LggyMeLNFR5x6wFqNHgakk50I3BWGSHzvC91h94PXAzwFfppvQZm2S5/XtbwQ2H42CtTQZwFqMnqCbBvSDSe6gm/XqJUf4HncDb0uyk27mvcur6v8A/xL4RJI7+34+cvTK1lLjaWjSQfo/V/Ppqnph41K0yLkHLEmNuAcsSY24ByxJjRjAktSIASxJjRjAktSIASxJjfxfVdCNjcFu1pAAAAAASUVORK5CYII=)\n",
        "<br>\n",
        "The Tempo data follows a normal distribution.\n",
        "\n",
        "![Speechiness_Dist.png](data:image/png;base64,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)\n",
        "<br>\n",
        "The Speechiness data contains an extrme right skew.\n",
        "\n",
        "![Danceability_Dist.png](data:image/png;base64,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)\n",
        "<br>\n",
        "The Danceability data contains a left skew.\n",
        "<br>\n",
        "<br>"
      ],
      "metadata": {
        "id": "_AuIPTew1RGJ"
      }
    },
    {
      "cell_type": "markdown",
      "source": [
        "### Bivariate Analysis"
      ],
      "metadata": {
        "id": "dM30jAFs202x"
      }
    },
    {
      "cell_type": "markdown",
      "source": [
        "#####<center>Correlation Table<center/>\n",
        ". | Tempo | Speechiness | Danceability\n",
        "--- | --- | --- | ---\n",
        "**Tempo** | <center>1.000 | <center>0.128 | <center>-0.036\n",
        "**Speechiness** | <center>0.128 | <center>1.000 | <center>0.216\n",
        "**Danceability** | <center>-0.036 | <center>0.216 | <center>1.000\n",
        "\n",
        "We can see that the correlation coefficients are extrmely small reducing the posisbility of multicollinearity.\n",
        "<br>\n",
        "\n",
        "#####<center>VIF Table<center/>\n",
        "Variable | VIF\n",
        "--- | ---\n",
        "Intercept | 18.302\n",
        "Tempo | 1.017\n",
        "Speechiness | 1.017\n",
        "\n",
        "The VIF table shows a small relationship between Tempo and Speechiness indicating a lack of multicollinearity in the data.\n",
        "\n",
        "<br>\n",
        "<br>\n"
      ],
      "metadata": {
        "id": "YKpb_30y1Q9I"
      }
    },
    {
      "cell_type": "markdown",
      "source": [
        "### Preliminary Model"
      ],
      "metadata": {
        "id": "rjjQCO8p26VC"
      }
    },
    {
      "cell_type": "markdown",
      "source": [
        "$$ Danceability = B_0 + B_1*Tempo + B_2*Speechiness $$\n",
        "<br>\n",
        "\n",
        "##### <center>OLS Assumptions <center/>\n",
        "Number | Assumption\n",
        "--- | ---\n",
        "1 | Normality of Distributions\n",
        "2 | Equal Variance of Errors\n",
        "\n",
        "<br>\n",
        "\n",
        "#####<center>Assumption Checking - Preliminary Model<center/>\n",
        "Assumption | Test | P-Value\n",
        "--- | --- | ---\n",
        "Normality | Anderson-Darling | 1.03e-5\n",
        "Equal Variance | Breuschpagan | 0.41\n",
        "\n",
        "The preliminary model yielded a significant p-value in the Anderson-Darling test for normality which rejected the null hypothesis. Therefore, normality is not satisfied by the preliminary model. On the otherhand, the insignificant p-value of the Breuschpagan equal variance test failed to reject the null hypothesis. The preliminary model satisfied the assumption of equal variance.\n",
        "\n",
        "<br>\n",
        "<br>\n"
      ],
      "metadata": {
        "id": "ZBh4haQt1Qzg"
      }
    },
    {
      "cell_type": "markdown",
      "source": [
        "### Model Remediation"
      ],
      "metadata": {
        "id": "rPBrwPIv2_Hv"
      }
    },
    {
      "cell_type": "markdown",
      "source": [
        "Since the Speechiness and Danceability variables contained highly skewed distributions, the variables underwent boxcox transformations. A new model containing Speechiness_bc and Danceability_bc was implemented:\n",
        "\n",
        "<br>\n",
        "\n",
        "$$ Danceability\\_bc = B_0 + B_1*Tempo + B_2*Speechiness\\_bc $$\n",
        "\n",
        "<br>\n",
        "\n",
        "#####<center>Assumption Checking - Remediated Model<center/>\n",
        "Assumption | Test | P-Value\n",
        "--- | --- | ---\n",
        "Normality | Anderson-Darling | 0.085\n",
        "Equal Variance | Breuschpagan | 0.250\n",
        "\n",
        "The remediated model yields insignificant p-values for the Anderson Darling normality test and the Breuschpagan equal variance test failing to reject the null for each test. Normality and equal variance assumptions are satisfied by the remediated model.\n"
      ],
      "metadata": {
        "id": "v6egqMwA1Qmf"
      }
    },
    {
      "cell_type": "markdown",
      "metadata": {
        "id": "N3kcchPsCIWs"
      },
      "source": [
        "# Results\n"
      ]
    },
    {
      "cell_type": "markdown",
      "source": [
        "### Model Output"
      ],
      "metadata": {
        "id": "poF1Ab_H4Wr1"
      }
    },
    {
      "cell_type": "markdown",
      "source": [
        "#####<center>Remediated Model Summary<center/>\n",
        "Variable | coef | std err | t | P-Value\n",
        "--- | --- | --- | --- | ---\n",
        "Intercept | -0.1375 | 0.030 | -4.638 | 0.000\n",
        "Tempo | -0.0003 | 0.000 | -1.444 | 0.150\n",
        "Speechiness_bc | 0.0167 | 0.003 | 5.536 | 0.000\n",
        "\n",
        "In the remediated model, Tempo did not yield a significant effect on Danceability. However, Speechiness_bc incurred a p-value less than the alpha level of 0.05 indicating significance. Standard error of Speechiness_bc was relatively low at 0.003. The coefficient for Speechiness_bc was 0.0167. Meanwhile, the intercept of the linear model was placed at -0.1375.\n",
        "<br>\n",
        "<br>\n"
      ],
      "metadata": {
        "id": "0guAHHf1DJvf"
      }
    },
    {
      "cell_type": "markdown",
      "source": [
        "### Significance\n"
      ],
      "metadata": {
        "id": "Z8iPJkwmKd6J"
      }
    },
    {
      "cell_type": "markdown",
      "source": [
        "#####<center>Remediated Model Significance<center/>\n",
        "Statistic | Value\n",
        "--- | ---\n",
        "R-squared | 0.137\n",
        "Adj. R-Squared | 0.128\n",
        "F-Statistic | 15.58\n",
        "\n",
        "With an R-squared value of 0.137, approximately 13.7% of the Danceability variable's variability can be explained by predictors. The low R-squared value isn't great, however variable significance and overall model significance needs to be taken into consideration when deciding model viability.\n",
        "\n",
        "Looking at the remediated model's overall significance, the model obtained an F-statistic of 15.58 implying effectiveness. With degrees of freedom for parameters at 2 and degrees of freedom for reisudals at 197 (or DF=2,197), the F-statistic of 15.58 is greater than the significance parameter of 2.30259 supporting the overall significance of the model.\n",
        "\n",
        "<br>\n",
        "<br>"
      ],
      "metadata": {
        "id": "A99t2qvpKlNd"
      }
    },
    {
      "cell_type": "markdown",
      "source": [
        "### Final Model"
      ],
      "metadata": {
        "id": "m1UlnxcYKmWi"
      }
    },
    {
      "cell_type": "markdown",
      "source": [
        "#####<center>Final Model Equation<center/>\n",
        "$$ Danceability\\_bc = B_0 + Speechiness\\_bc $$\n",
        "\n",
        "By removing the insignificant variable, Tempo, the final model can be written accordingly."
      ],
      "metadata": {
        "id": "PjAsrJhiKpKl"
      }
    },
    {
      "cell_type": "markdown",
      "metadata": {
        "id": "Ua7ccG0DCPGa"
      },
      "source": [
        "# Discussion\n"
      ]
    },
    {
      "cell_type": "markdown",
      "source": [
        "### Coefficient Interpretation"
      ],
      "metadata": {
        "id": "lgdlVQEjLZLu"
      }
    },
    {
      "cell_type": "markdown",
      "source": [
        "The final model shed light on the efficacy of Tempo and Speechiness when used to predict Danceability. Specifically, the model informed us that Speechiness had a significant effect on Danceability while Tempo did not. While this information is useful, interpretting the coefficient, or quantitative impact, of Speechiness on Danceability becomes blurry. The reason for the lack of transparency in interpretting how much Danceability changes per unit change of Speechiness is due to a transformation process used during the model creation process.\n",
        "\n",
        "Linear models must satisfy two criteria - normality and equal variance. While the preliminary model satisfied equal variance, it failed to satisfy normality. A transformation technique, called boxcox, was used to transform variables with non-normal distributions so that each variable's distribution became approximately normal. Rewriting the model with transformed variables satisfied assumptions and validated further analysis.\n",
        "\n",
        "An issue with data transformations is that coefficients become calculated based on tranformed values, not root data. Therefore, Speechiness's coefficient of 0.0167 does not imply a unit change in Speechiness would increase Danceability by 0.0167 since the calculations behind this slope is in transformed units. "
      ],
      "metadata": {
        "id": "LJb7m-NOLlt3"
      }
    },
    {
      "cell_type": "markdown",
      "source": [
        "### So, does the Tempo and Speechiness of a track predict Danceability?"
      ],
      "metadata": {
        "id": "ibuByMfx4Y18"
      }
    },
    {
      "cell_type": "markdown",
      "source": [
        "Speechiness of a track does significantly predict Danceability. However, Tempo does not predict Danceability. The incremental amount that changes in Speechiness impact Danceability are unclear due to transformation processes impacting coefficients. Nonetheless, Speechiness does play a significant role."
      ],
      "metadata": {
        "id": "J8_fl9iTQPI3"
      }
    },
    {
      "cell_type": "markdown",
      "source": [
        "### Confounding Variables"
      ],
      "metadata": {
        "id": "0boKcCIMLfun"
      }
    },
    {
      "cell_type": "markdown",
      "source": [
        "Though Speechiness was proven to be a significant predictor of Danceability, a variety of untested confounding factors may have had an impact as well. This claim is further supported by the low R-squared value indicating that predictors outside the scope of this analysis may be influencing results.\n",
        "\n",
        "With the ultimate goal of being able to predict Danceability, it's advisable to consider all relevant data. The spotify dataset, originating in Kaggle, contains 23 variables, however this study only focussed on 3. By immediately overlooking the other 20 variables, possible significant predictors were overlooked. These 20 factors should have been removed through significant testing, not throuhg immediate judgement. Once again, this consideration of possible confounding factors is reliant on the assumption that the ultimate goal was to predict Danceability as a whole.\n",
        "\n",
        "Another factor not taken into consideration pertains to emotional response of audience members. The Danceability variable uses a variety of quantitative metrics to calculate an ultimate Danceability score, but it does not incorporate qualitative values. Taking emotions into consideration could provide a more accurate representation of true Danceability."
      ],
      "metadata": {
        "id": "f-O4vT75QrYJ"
      }
    },
    {
      "cell_type": "markdown",
      "source": [
        "### Future Considerations"
      ],
      "metadata": {
        "id": "Wk0gp-7pLh2N"
      }
    },
    {
      "cell_type": "markdown",
      "source": [
        "For future models, I recommend expanding the number of independent variables used in analysis. Starting large and eliminating variables through various elimination processes would ensure that significant predictors aren't overlooked.\n",
        "\n",
        "Additionally, redefining the Danceability metric to include qualitative features could create a more accurate representaiton of true Danceability of a track.\n",
        "\n",
        "Finally, as with all models, increasing the sample size could provide a more accurate representation of population values. The current sample size of 200 is good, but expanding to 500 or even 1000 tracks could help reduce the effect of outlier values."
      ],
      "metadata": {
        "id": "QcsJJyheDeYl"
      }
    },
    {
      "cell_type": "markdown",
      "metadata": {
        "id": "0n0fIfmuCbaO"
      },
      "source": [
        "# Code"
      ]
    },
    {
      "cell_type": "markdown",
      "source": [
        "##### Import Libraries and Dataset"
      ],
      "metadata": {
        "id": "6tSwIzweO3a3"
      }
    },
    {
      "cell_type": "code",
      "metadata": {
        "id": "ot1VvYJY7qm3",
        "colab": {
          "base_uri": "https://localhost:8080/"
        },
        "outputId": "47ace5c4-cc56-4474-b0c7-e3ba6089b2b9"
      },
      "source": [
        "# Import Libraries\n",
        "import pandas as pd\n",
        "import numpy as np\n",
        "import matplotlib.pyplot as plt\n",
        "import seaborn as sns\n",
        "import statsmodels.formula.api as smf\n",
        "import statsmodels.api as smapi\n",
        "import statsmodels.stats as stats\n",
        "from scipy import stats as scistats"
      ],
      "execution_count": null,
      "outputs": [
        {
          "output_type": "stream",
          "name": "stderr",
          "text": [
            "/usr/local/lib/python3.7/dist-packages/statsmodels/tools/_testing.py:19: FutureWarning: pandas.util.testing is deprecated. Use the functions in the public API at pandas.testing instead.\n",
            "  import pandas.util.testing as tm\n"
          ]
        }
      ]
    },
    {
      "cell_type": "code",
      "source": [
        "# Mount to Drive\n",
        "from google.colab import drive\n",
        "drive.mount('/gdrive')"
      ],
      "metadata": {
        "colab": {
          "base_uri": "https://localhost:8080/"
        },
        "id": "VuCv3uKUJpKr",
        "outputId": "dfcda571-a1ae-4067-ecb4-03a13191056b"
      },
      "execution_count": null,
      "outputs": [
        {
          "output_type": "stream",
          "name": "stdout",
          "text": [
            "Mounted at /gdrive\n"
          ]
        }
      ]
    },
    {
      "cell_type": "code",
      "source": [
        "# Import Dataset\n",
        "spotify = pd.read_csv('/gdrive/MyDrive/Datasets/Spotify_Q2_unscaled.csv')\n",
        "del spotify['Unnamed: 0']\n",
        "spotify.head()\n",
        "# Dataframe of 2 predicors and 1 response; all continuous variables"
      ],
      "metadata": {
        "colab": {
          "base_uri": "https://localhost:8080/",
          "height": 206
        },
        "id": "a4P63azLKiNc",
        "outputId": "8b2af013-e804-4e66-a57f-c8ec2f4eedd3"
      },
      "execution_count": null,
      "outputs": [
        {
          "output_type": "execute_result",
          "data": {
            "text/plain": [
              "     Tempo  Speechiness  Danceability\n",
              "0  119.932       0.0475         0.722\n",
              "1  120.031       0.2320         0.798\n",
              "2  124.990       0.0737         0.726\n",
              "3   97.963       0.1240         0.882\n",
              "4  194.034       0.3070         0.534"
            ],
            "text/html": [
              "\n",
              "  <div id=\"df-4e53a8ca-e455-4dd0-aa9c-09d04fae476b\">\n",
              "    <div class=\"colab-df-container\">\n",
              "      <div>\n",
              "<style scoped>\n",
              "    .dataframe tbody tr th:only-of-type {\n",
              "        vertical-align: middle;\n",
              "    }\n",
              "\n",
              "    .dataframe tbody tr th {\n",
              "        vertical-align: top;\n",
              "    }\n",
              "\n",
              "    .dataframe thead th {\n",
              "        text-align: right;\n",
              "    }\n",
              "</style>\n",
              "<table border=\"1\" class=\"dataframe\">\n",
              "  <thead>\n",
              "    <tr style=\"text-align: right;\">\n",
              "      <th></th>\n",
              "      <th>Tempo</th>\n",
              "      <th>Speechiness</th>\n",
              "      <th>Danceability</th>\n",
              "    </tr>\n",
              "  </thead>\n",
              "  <tbody>\n",
              "    <tr>\n",
              "      <th>0</th>\n",
              "      <td>119.932</td>\n",
              "      <td>0.0475</td>\n",
              "      <td>0.722</td>\n",
              "    </tr>\n",
              "    <tr>\n",
              "      <th>1</th>\n",
              "      <td>120.031</td>\n",
              "      <td>0.2320</td>\n",
              "      <td>0.798</td>\n",
              "    </tr>\n",
              "    <tr>\n",
              "      <th>2</th>\n",
              "      <td>124.990</td>\n",
              "      <td>0.0737</td>\n",
              "      <td>0.726</td>\n",
              "    </tr>\n",
              "    <tr>\n",
              "      <th>3</th>\n",
              "      <td>97.963</td>\n",
              "      <td>0.1240</td>\n",
              "      <td>0.882</td>\n",
              "    </tr>\n",
              "    <tr>\n",
              "      <th>4</th>\n",
              "      <td>194.034</td>\n",
              "      <td>0.3070</td>\n",
              "      <td>0.534</td>\n",
              "    </tr>\n",
              "  </tbody>\n",
              "</table>\n",
              "</div>\n",
              "      <button class=\"colab-df-convert\" onclick=\"convertToInteractive('df-4e53a8ca-e455-4dd0-aa9c-09d04fae476b')\"\n",
              "              title=\"Convert this dataframe to an interactive table.\"\n",
              "              style=\"display:none;\">\n",
              "        \n",
              "  <svg xmlns=\"http://www.w3.org/2000/svg\" height=\"24px\"viewBox=\"0 0 24 24\"\n",
              "       width=\"24px\">\n",
              "    <path d=\"M0 0h24v24H0V0z\" fill=\"none\"/>\n",
              "    <path d=\"M18.56 5.44l.94 2.06.94-2.06 2.06-.94-2.06-.94-.94-2.06-.94 2.06-2.06.94zm-11 1L8.5 8.5l.94-2.06 2.06-.94-2.06-.94L8.5 2.5l-.94 2.06-2.06.94zm10 10l.94 2.06.94-2.06 2.06-.94-2.06-.94-.94-2.06-.94 2.06-2.06.94z\"/><path d=\"M17.41 7.96l-1.37-1.37c-.4-.4-.92-.59-1.43-.59-.52 0-1.04.2-1.43.59L10.3 9.45l-7.72 7.72c-.78.78-.78 2.05 0 2.83L4 21.41c.39.39.9.59 1.41.59.51 0 1.02-.2 1.41-.59l7.78-7.78 2.81-2.81c.8-.78.8-2.07 0-2.86zM5.41 20L4 18.59l7.72-7.72 1.47 1.35L5.41 20z\"/>\n",
              "  </svg>\n",
              "      </button>\n",
              "      \n",
              "  <style>\n",
              "    .colab-df-container {\n",
              "      display:flex;\n",
              "      flex-wrap:wrap;\n",
              "      gap: 12px;\n",
              "    }\n",
              "\n",
              "    .colab-df-convert {\n",
              "      background-color: #E8F0FE;\n",
              "      border: none;\n",
              "      border-radius: 50%;\n",
              "      cursor: pointer;\n",
              "      display: none;\n",
              "      fill: #1967D2;\n",
              "      height: 32px;\n",
              "      padding: 0 0 0 0;\n",
              "      width: 32px;\n",
              "    }\n",
              "\n",
              "    .colab-df-convert:hover {\n",
              "      background-color: #E2EBFA;\n",
              "      box-shadow: 0px 1px 2px rgba(60, 64, 67, 0.3), 0px 1px 3px 1px rgba(60, 64, 67, 0.15);\n",
              "      fill: #174EA6;\n",
              "    }\n",
              "\n",
              "    [theme=dark] .colab-df-convert {\n",
              "      background-color: #3B4455;\n",
              "      fill: #D2E3FC;\n",
              "    }\n",
              "\n",
              "    [theme=dark] .colab-df-convert:hover {\n",
              "      background-color: #434B5C;\n",
              "      box-shadow: 0px 1px 3px 1px rgba(0, 0, 0, 0.15);\n",
              "      filter: drop-shadow(0px 1px 2px rgba(0, 0, 0, 0.3));\n",
              "      fill: #FFFFFF;\n",
              "    }\n",
              "  </style>\n",
              "\n",
              "      <script>\n",
              "        const buttonEl =\n",
              "          document.querySelector('#df-4e53a8ca-e455-4dd0-aa9c-09d04fae476b button.colab-df-convert');\n",
              "        buttonEl.style.display =\n",
              "          google.colab.kernel.accessAllowed ? 'block' : 'none';\n",
              "\n",
              "        async function convertToInteractive(key) {\n",
              "          const element = document.querySelector('#df-4e53a8ca-e455-4dd0-aa9c-09d04fae476b');\n",
              "          const dataTable =\n",
              "            await google.colab.kernel.invokeFunction('convertToInteractive',\n",
              "                                                     [key], {});\n",
              "          if (!dataTable) return;\n",
              "\n",
              "          const docLinkHtml = 'Like what you see? Visit the ' +\n",
              "            '<a target=\"_blank\" href=https://colab.research.google.com/notebooks/data_table.ipynb>data table notebook</a>'\n",
              "            + ' to learn more about interactive tables.';\n",
              "          element.innerHTML = '';\n",
              "          dataTable['output_type'] = 'display_data';\n",
              "          await google.colab.output.renderOutput(dataTable, element);\n",
              "          const docLink = document.createElement('div');\n",
              "          docLink.innerHTML = docLinkHtml;\n",
              "          element.appendChild(docLink);\n",
              "        }\n",
              "      </script>\n",
              "    </div>\n",
              "  </div>\n",
              "  "
            ]
          },
          "metadata": {},
          "execution_count": 3
        }
      ]
    },
    {
      "cell_type": "markdown",
      "source": [
        "##### Exploratory Data Analysis"
      ],
      "metadata": {
        "id": "ZPq1oQavOwEd"
      }
    },
    {
      "cell_type": "code",
      "source": [
        "# Begin EDA\n",
        "spotify.dtypes\n",
        "# All variables are stored as floats"
      ],
      "metadata": {
        "colab": {
          "base_uri": "https://localhost:8080/"
        },
        "id": "ZIrQiQtjL_Xo",
        "outputId": "7f688e5d-978b-488f-dd2c-5d4512a98fca"
      },
      "execution_count": null,
      "outputs": [
        {
          "output_type": "execute_result",
          "data": {
            "text/plain": [
              "Tempo           float64\n",
              "Speechiness     float64\n",
              "Danceability    float64\n",
              "dtype: object"
            ]
          },
          "metadata": {},
          "execution_count": 4
        }
      ]
    },
    {
      "cell_type": "code",
      "source": [
        "# Check for Missing Values\n",
        "spotify.isna().sum()\n",
        "# There are no N/A values in the dataset"
      ],
      "metadata": {
        "colab": {
          "base_uri": "https://localhost:8080/"
        },
        "id": "GXuAUdNyZ7GW",
        "outputId": "a8463e2a-b632-4f3d-d110-b7544f65b646"
      },
      "execution_count": null,
      "outputs": [
        {
          "output_type": "execute_result",
          "data": {
            "text/plain": [
              "Tempo           0\n",
              "Speechiness     0\n",
              "Danceability    0\n",
              "dtype: int64"
            ]
          },
          "metadata": {},
          "execution_count": 5
        }
      ]
    },
    {
      "cell_type": "code",
      "source": [
        "# Descriptive Statisics\n",
        "spotify.describe()\n",
        "# Much larger values for Tempo than Speechiness and Danceability, seem to be on different scales\n",
        "# Same number of observations for all variables"
      ],
      "metadata": {
        "colab": {
          "base_uri": "https://localhost:8080/",
          "height": 300
        },
        "id": "tGWDW2JEM1sH",
        "outputId": "91c6fab7-ce3e-4b4e-bb39-09c9c3097744"
      },
      "execution_count": null,
      "outputs": [
        {
          "output_type": "execute_result",
          "data": {
            "text/plain": [
              "            Tempo  Speechiness  Danceability\n",
              "count  200.000000   200.000000    200.000000\n",
              "mean   125.476590     0.127966      0.698125\n",
              "std     30.473681     0.123677      0.138845\n",
              "min     64.062000     0.025300      0.184000\n",
              "25%    101.958000     0.043975      0.613500\n",
              "50%    125.017000     0.074950      0.719000\n",
              "75%    145.257500     0.170250      0.806000\n",
              "max    203.903000     0.884000      0.964000"
            ],
            "text/html": [
              "\n",
              "  <div id=\"df-4de9d80a-2ce0-4095-8b91-2e92514d4b3b\">\n",
              "    <div class=\"colab-df-container\">\n",
              "      <div>\n",
              "<style scoped>\n",
              "    .dataframe tbody tr th:only-of-type {\n",
              "        vertical-align: middle;\n",
              "    }\n",
              "\n",
              "    .dataframe tbody tr th {\n",
              "        vertical-align: top;\n",
              "    }\n",
              "\n",
              "    .dataframe thead th {\n",
              "        text-align: right;\n",
              "    }\n",
              "</style>\n",
              "<table border=\"1\" class=\"dataframe\">\n",
              "  <thead>\n",
              "    <tr style=\"text-align: right;\">\n",
              "      <th></th>\n",
              "      <th>Tempo</th>\n",
              "      <th>Speechiness</th>\n",
              "      <th>Danceability</th>\n",
              "    </tr>\n",
              "  </thead>\n",
              "  <tbody>\n",
              "    <tr>\n",
              "      <th>count</th>\n",
              "      <td>200.000000</td>\n",
              "      <td>200.000000</td>\n",
              "      <td>200.000000</td>\n",
              "    </tr>\n",
              "    <tr>\n",
              "      <th>mean</th>\n",
              "      <td>125.476590</td>\n",
              "      <td>0.127966</td>\n",
              "      <td>0.698125</td>\n",
              "    </tr>\n",
              "    <tr>\n",
              "      <th>std</th>\n",
              "      <td>30.473681</td>\n",
              "      <td>0.123677</td>\n",
              "      <td>0.138845</td>\n",
              "    </tr>\n",
              "    <tr>\n",
              "      <th>min</th>\n",
              "      <td>64.062000</td>\n",
              "      <td>0.025300</td>\n",
              "      <td>0.184000</td>\n",
              "    </tr>\n",
              "    <tr>\n",
              "      <th>25%</th>\n",
              "      <td>101.958000</td>\n",
              "      <td>0.043975</td>\n",
              "      <td>0.613500</td>\n",
              "    </tr>\n",
              "    <tr>\n",
              "      <th>50%</th>\n",
              "      <td>125.017000</td>\n",
              "      <td>0.074950</td>\n",
              "      <td>0.719000</td>\n",
              "    </tr>\n",
              "    <tr>\n",
              "      <th>75%</th>\n",
              "      <td>145.257500</td>\n",
              "      <td>0.170250</td>\n",
              "      <td>0.806000</td>\n",
              "    </tr>\n",
              "    <tr>\n",
              "      <th>max</th>\n",
              "      <td>203.903000</td>\n",
              "      <td>0.884000</td>\n",
              "      <td>0.964000</td>\n",
              "    </tr>\n",
              "  </tbody>\n",
              "</table>\n",
              "</div>\n",
              "      <button class=\"colab-df-convert\" onclick=\"convertToInteractive('df-4de9d80a-2ce0-4095-8b91-2e92514d4b3b')\"\n",
              "              title=\"Convert this dataframe to an interactive table.\"\n",
              "              style=\"display:none;\">\n",
              "        \n",
              "  <svg xmlns=\"http://www.w3.org/2000/svg\" height=\"24px\"viewBox=\"0 0 24 24\"\n",
              "       width=\"24px\">\n",
              "    <path d=\"M0 0h24v24H0V0z\" fill=\"none\"/>\n",
              "    <path d=\"M18.56 5.44l.94 2.06.94-2.06 2.06-.94-2.06-.94-.94-2.06-.94 2.06-2.06.94zm-11 1L8.5 8.5l.94-2.06 2.06-.94-2.06-.94L8.5 2.5l-.94 2.06-2.06.94zm10 10l.94 2.06.94-2.06 2.06-.94-2.06-.94-.94-2.06-.94 2.06-2.06.94z\"/><path d=\"M17.41 7.96l-1.37-1.37c-.4-.4-.92-.59-1.43-.59-.52 0-1.04.2-1.43.59L10.3 9.45l-7.72 7.72c-.78.78-.78 2.05 0 2.83L4 21.41c.39.39.9.59 1.41.59.51 0 1.02-.2 1.41-.59l7.78-7.78 2.81-2.81c.8-.78.8-2.07 0-2.86zM5.41 20L4 18.59l7.72-7.72 1.47 1.35L5.41 20z\"/>\n",
              "  </svg>\n",
              "      </button>\n",
              "      \n",
              "  <style>\n",
              "    .colab-df-container {\n",
              "      display:flex;\n",
              "      flex-wrap:wrap;\n",
              "      gap: 12px;\n",
              "    }\n",
              "\n",
              "    .colab-df-convert {\n",
              "      background-color: #E8F0FE;\n",
              "      border: none;\n",
              "      border-radius: 50%;\n",
              "      cursor: pointer;\n",
              "      display: none;\n",
              "      fill: #1967D2;\n",
              "      height: 32px;\n",
              "      padding: 0 0 0 0;\n",
              "      width: 32px;\n",
              "    }\n",
              "\n",
              "    .colab-df-convert:hover {\n",
              "      background-color: #E2EBFA;\n",
              "      box-shadow: 0px 1px 2px rgba(60, 64, 67, 0.3), 0px 1px 3px 1px rgba(60, 64, 67, 0.15);\n",
              "      fill: #174EA6;\n",
              "    }\n",
              "\n",
              "    [theme=dark] .colab-df-convert {\n",
              "      background-color: #3B4455;\n",
              "      fill: #D2E3FC;\n",
              "    }\n",
              "\n",
              "    [theme=dark] .colab-df-convert:hover {\n",
              "      background-color: #434B5C;\n",
              "      box-shadow: 0px 1px 3px 1px rgba(0, 0, 0, 0.15);\n",
              "      filter: drop-shadow(0px 1px 2px rgba(0, 0, 0, 0.3));\n",
              "      fill: #FFFFFF;\n",
              "    }\n",
              "  </style>\n",
              "\n",
              "      <script>\n",
              "        const buttonEl =\n",
              "          document.querySelector('#df-4de9d80a-2ce0-4095-8b91-2e92514d4b3b button.colab-df-convert');\n",
              "        buttonEl.style.display =\n",
              "          google.colab.kernel.accessAllowed ? 'block' : 'none';\n",
              "\n",
              "        async function convertToInteractive(key) {\n",
              "          const element = document.querySelector('#df-4de9d80a-2ce0-4095-8b91-2e92514d4b3b');\n",
              "          const dataTable =\n",
              "            await google.colab.kernel.invokeFunction('convertToInteractive',\n",
              "                                                     [key], {});\n",
              "          if (!dataTable) return;\n",
              "\n",
              "          const docLinkHtml = 'Like what you see? Visit the ' +\n",
              "            '<a target=\"_blank\" href=https://colab.research.google.com/notebooks/data_table.ipynb>data table notebook</a>'\n",
              "            + ' to learn more about interactive tables.';\n",
              "          element.innerHTML = '';\n",
              "          dataTable['output_type'] = 'display_data';\n",
              "          await google.colab.output.renderOutput(dataTable, element);\n",
              "          const docLink = document.createElement('div');\n",
              "          docLink.innerHTML = docLinkHtml;\n",
              "          element.appendChild(docLink);\n",
              "        }\n",
              "      </script>\n",
              "    </div>\n",
              "  </div>\n",
              "  "
            ]
          },
          "metadata": {},
          "execution_count": 6
        }
      ]
    },
    {
      "cell_type": "code",
      "source": [
        "# Visually Check Univariate Distributions\n",
        "for i in range(3):\n",
        "  names = [\"Tempo\", \"Speechiness\", \"Danceability\"]\n",
        "  print(sns.displot(x=names[i], data=spotify, color='lightblue'))\n",
        "  # Tempo is normally distributed\n",
        "  # Speechiness has extrme right skew\n",
        "  # Danceability has left skew"
      ],
      "metadata": {
        "colab": {
          "base_uri": "https://localhost:8080/",
          "height": 1000
        },
        "id": "S1Ut6fuaOgfC",
        "outputId": "6cd2c988-70af-4492-e9fa-3d8c991d8eaf"
      },
      "execution_count": null,
      "outputs": [
        {
          "output_type": "stream",
          "name": "stdout",
          "text": [
            "<seaborn.axisgrid.FacetGrid object at 0x7fbafe31f990>\n",
            "<seaborn.axisgrid.FacetGrid object at 0x7fbafc215910>\n",
            "<seaborn.axisgrid.FacetGrid object at 0x7fbafe22cf10>\n"
          ]
        },
        {
          "output_type": "display_data",
          "data": {
            "text/plain": [
              "<Figure size 360x360 with 1 Axes>"
            ],
            "image/png": "[encoded data removed]"
          },
          "metadata": {
            "needs_background": "light"
          }
        },
        {
          "output_type": "display_data",
          "data": {
            "text/plain": [
              "<Figure size 360x360 with 1 Axes>"
            ],
            "image/png": "[encoded data removed]"
          },
          "metadata": {
            "needs_background": "light"
          }
        },
        {
          "output_type": "display_data",
          "data": {
            "text/plain": [
              "<Figure size 360x360 with 1 Axes>"
            ],
            "image/png": "[encoded data removed]"
          },
          "metadata": {
            "needs_background": "light"
          }
        }
      ]
    },
    {
      "cell_type": "code",
      "source": [
        "# Check Correlations\n",
        "spotify.corr()\n",
        "# There is low correlation between all variables\n",
        "# Little worry about multicollinearity based on correlations"
      ],
      "metadata": {
        "colab": {
          "base_uri": "https://localhost:8080/",
          "height": 143
        },
        "id": "gqrArDuNalO_",
        "outputId": "7530e202-ac3d-4468-951e-85a9b29a9962"
      },
      "execution_count": null,
      "outputs": [
        {
          "output_type": "execute_result",
          "data": {
            "text/plain": [
              "                 Tempo  Speechiness  Danceability\n",
              "Tempo         1.000000     0.128136     -0.036293\n",
              "Speechiness   0.128136     1.000000      0.215767\n",
              "Danceability -0.036293     0.215767      1.000000"
            ],
            "text/html": [
              "\n",
              "  <div id=\"df-5ef95c66-3ccf-4783-b195-1f017fcb490a\">\n",
              "    <div class=\"colab-df-container\">\n",
              "      <div>\n",
              "<style scoped>\n",
              "    .dataframe tbody tr th:only-of-type {\n",
              "        vertical-align: middle;\n",
              "    }\n",
              "\n",
              "    .dataframe tbody tr th {\n",
              "        vertical-align: top;\n",
              "    }\n",
              "\n",
              "    .dataframe thead th {\n",
              "        text-align: right;\n",
              "    }\n",
              "</style>\n",
              "<table border=\"1\" class=\"dataframe\">\n",
              "  <thead>\n",
              "    <tr style=\"text-align: right;\">\n",
              "      <th></th>\n",
              "      <th>Tempo</th>\n",
              "      <th>Speechiness</th>\n",
              "      <th>Danceability</th>\n",
              "    </tr>\n",
              "  </thead>\n",
              "  <tbody>\n",
              "    <tr>\n",
              "      <th>Tempo</th>\n",
              "      <td>1.000000</td>\n",
              "      <td>0.128136</td>\n",
              "      <td>-0.036293</td>\n",
              "    </tr>\n",
              "    <tr>\n",
              "      <th>Speechiness</th>\n",
              "      <td>0.128136</td>\n",
              "      <td>1.000000</td>\n",
              "      <td>0.215767</td>\n",
              "    </tr>\n",
              "    <tr>\n",
              "      <th>Danceability</th>\n",
              "      <td>-0.036293</td>\n",
              "      <td>0.215767</td>\n",
              "      <td>1.000000</td>\n",
              "    </tr>\n",
              "  </tbody>\n",
              "</table>\n",
              "</div>\n",
              "      <button class=\"colab-df-convert\" onclick=\"convertToInteractive('df-5ef95c66-3ccf-4783-b195-1f017fcb490a')\"\n",
              "              title=\"Convert this dataframe to an interactive table.\"\n",
              "              style=\"display:none;\">\n",
              "        \n",
              "  <svg xmlns=\"http://www.w3.org/2000/svg\" height=\"24px\"viewBox=\"0 0 24 24\"\n",
              "       width=\"24px\">\n",
              "    <path d=\"M0 0h24v24H0V0z\" fill=\"none\"/>\n",
              "    <path d=\"M18.56 5.44l.94 2.06.94-2.06 2.06-.94-2.06-.94-.94-2.06-.94 2.06-2.06.94zm-11 1L8.5 8.5l.94-2.06 2.06-.94-2.06-.94L8.5 2.5l-.94 2.06-2.06.94zm10 10l.94 2.06.94-2.06 2.06-.94-2.06-.94-.94-2.06-.94 2.06-2.06.94z\"/><path d=\"M17.41 7.96l-1.37-1.37c-.4-.4-.92-.59-1.43-.59-.52 0-1.04.2-1.43.59L10.3 9.45l-7.72 7.72c-.78.78-.78 2.05 0 2.83L4 21.41c.39.39.9.59 1.41.59.51 0 1.02-.2 1.41-.59l7.78-7.78 2.81-2.81c.8-.78.8-2.07 0-2.86zM5.41 20L4 18.59l7.72-7.72 1.47 1.35L5.41 20z\"/>\n",
              "  </svg>\n",
              "      </button>\n",
              "      \n",
              "  <style>\n",
              "    .colab-df-container {\n",
              "      display:flex;\n",
              "      flex-wrap:wrap;\n",
              "      gap: 12px;\n",
              "    }\n",
              "\n",
              "    .colab-df-convert {\n",
              "      background-color: #E8F0FE;\n",
              "      border: none;\n",
              "      border-radius: 50%;\n",
              "      cursor: pointer;\n",
              "      display: none;\n",
              "      fill: #1967D2;\n",
              "      height: 32px;\n",
              "      padding: 0 0 0 0;\n",
              "      width: 32px;\n",
              "    }\n",
              "\n",
              "    .colab-df-convert:hover {\n",
              "      background-color: #E2EBFA;\n",
              "      box-shadow: 0px 1px 2px rgba(60, 64, 67, 0.3), 0px 1px 3px 1px rgba(60, 64, 67, 0.15);\n",
              "      fill: #174EA6;\n",
              "    }\n",
              "\n",
              "    [theme=dark] .colab-df-convert {\n",
              "      background-color: #3B4455;\n",
              "      fill: #D2E3FC;\n",
              "    }\n",
              "\n",
              "    [theme=dark] .colab-df-convert:hover {\n",
              "      background-color: #434B5C;\n",
              "      box-shadow: 0px 1px 3px 1px rgba(0, 0, 0, 0.15);\n",
              "      filter: drop-shadow(0px 1px 2px rgba(0, 0, 0, 0.3));\n",
              "      fill: #FFFFFF;\n",
              "    }\n",
              "  </style>\n",
              "\n",
              "      <script>\n",
              "        const buttonEl =\n",
              "          document.querySelector('#df-5ef95c66-3ccf-4783-b195-1f017fcb490a button.colab-df-convert');\n",
              "        buttonEl.style.display =\n",
              "          google.colab.kernel.accessAllowed ? 'block' : 'none';\n",
              "\n",
              "        async function convertToInteractive(key) {\n",
              "          const element = document.querySelector('#df-5ef95c66-3ccf-4783-b195-1f017fcb490a');\n",
              "          const dataTable =\n",
              "            await google.colab.kernel.invokeFunction('convertToInteractive',\n",
              "                                                     [key], {});\n",
              "          if (!dataTable) return;\n",
              "\n",
              "          const docLinkHtml = 'Like what you see? Visit the ' +\n",
              "            '<a target=\"_blank\" href=https://colab.research.google.com/notebooks/data_table.ipynb>data table notebook</a>'\n",
              "            + ' to learn more about interactive tables.';\n",
              "          element.innerHTML = '';\n",
              "          dataTable['output_type'] = 'display_data';\n",
              "          await google.colab.output.renderOutput(dataTable, element);\n",
              "          const docLink = document.createElement('div');\n",
              "          docLink.innerHTML = docLinkHtml;\n",
              "          element.appendChild(docLink);\n",
              "        }\n",
              "      </script>\n",
              "    </div>\n",
              "  </div>\n",
              "  "
            ]
          },
          "metadata": {},
          "execution_count": 8
        }
      ]
    },
    {
      "cell_type": "code",
      "source": [
        "# Check VIF\n",
        "\n",
        "from patsy import dmatrices\n",
        "from statsmodels.stats.outliers_influence import variance_inflation_factor as statsvif\n",
        "\n",
        "y, X = dmatrices('Danceability ~ Tempo + Speechiness', data=spotify, return_type='dataframe')\n",
        "\n",
        "#calculate VIF for each explanatory variable\n",
        "vif = pd.DataFrame()\n",
        "vif['VIF'] = [statsvif(X.values, i) for i in range(X.shape[1])]\n",
        "vif['variable'] = X.columns\n",
        "\n",
        "#view VIF for each explanatory variable \n",
        "vif\n",
        "\n",
        "# Low VIF values between predictors, little worry about multicollinearity"
      ],
      "metadata": {
        "colab": {
          "base_uri": "https://localhost:8080/",
          "height": 143
        },
        "id": "4QPmsDVGcv7e",
        "outputId": "70478168-acf3-4c24-8c23-c382c49b8f9b"
      },
      "execution_count": null,
      "outputs": [
        {
          "output_type": "execute_result",
          "data": {
            "text/plain": [
              "         VIF     variable\n",
              "0  18.302060    Intercept\n",
              "1   1.016693        Tempo\n",
              "2   1.016693  Speechiness"
            ],
            "text/html": [
              "\n",
              "  <div id=\"df-e576af25-1df9-4e65-bde5-ca9731149cc6\">\n",
              "    <div class=\"colab-df-container\">\n",
              "      <div>\n",
              "<style scoped>\n",
              "    .dataframe tbody tr th:only-of-type {\n",
              "        vertical-align: middle;\n",
              "    }\n",
              "\n",
              "    .dataframe tbody tr th {\n",
              "        vertical-align: top;\n",
              "    }\n",
              "\n",
              "    .dataframe thead th {\n",
              "        text-align: right;\n",
              "    }\n",
              "</style>\n",
              "<table border=\"1\" class=\"dataframe\">\n",
              "  <thead>\n",
              "    <tr style=\"text-align: right;\">\n",
              "      <th></th>\n",
              "      <th>VIF</th>\n",
              "      <th>variable</th>\n",
              "    </tr>\n",
              "  </thead>\n",
              "  <tbody>\n",
              "    <tr>\n",
              "      <th>0</th>\n",
              "      <td>18.302060</td>\n",
              "      <td>Intercept</td>\n",
              "    </tr>\n",
              "    <tr>\n",
              "      <th>1</th>\n",
              "      <td>1.016693</td>\n",
              "      <td>Tempo</td>\n",
              "    </tr>\n",
              "    <tr>\n",
              "      <th>2</th>\n",
              "      <td>1.016693</td>\n",
              "      <td>Speechiness</td>\n",
              "    </tr>\n",
              "  </tbody>\n",
              "</table>\n",
              "</div>\n",
              "      <button class=\"colab-df-convert\" onclick=\"convertToInteractive('df-e576af25-1df9-4e65-bde5-ca9731149cc6')\"\n",
              "              title=\"Convert this dataframe to an interactive table.\"\n",
              "              style=\"display:none;\">\n",
              "        \n",
              "  <svg xmlns=\"http://www.w3.org/2000/svg\" height=\"24px\"viewBox=\"0 0 24 24\"\n",
              "       width=\"24px\">\n",
              "    <path d=\"M0 0h24v24H0V0z\" fill=\"none\"/>\n",
              "    <path d=\"M18.56 5.44l.94 2.06.94-2.06 2.06-.94-2.06-.94-.94-2.06-.94 2.06-2.06.94zm-11 1L8.5 8.5l.94-2.06 2.06-.94-2.06-.94L8.5 2.5l-.94 2.06-2.06.94zm10 10l.94 2.06.94-2.06 2.06-.94-2.06-.94-.94-2.06-.94 2.06-2.06.94z\"/><path d=\"M17.41 7.96l-1.37-1.37c-.4-.4-.92-.59-1.43-.59-.52 0-1.04.2-1.43.59L10.3 9.45l-7.72 7.72c-.78.78-.78 2.05 0 2.83L4 21.41c.39.39.9.59 1.41.59.51 0 1.02-.2 1.41-.59l7.78-7.78 2.81-2.81c.8-.78.8-2.07 0-2.86zM5.41 20L4 18.59l7.72-7.72 1.47 1.35L5.41 20z\"/>\n",
              "  </svg>\n",
              "      </button>\n",
              "      \n",
              "  <style>\n",
              "    .colab-df-container {\n",
              "      display:flex;\n",
              "      flex-wrap:wrap;\n",
              "      gap: 12px;\n",
              "    }\n",
              "\n",
              "    .colab-df-convert {\n",
              "      background-color: #E8F0FE;\n",
              "      border: none;\n",
              "      border-radius: 50%;\n",
              "      cursor: pointer;\n",
              "      display: none;\n",
              "      fill: #1967D2;\n",
              "      height: 32px;\n",
              "      padding: 0 0 0 0;\n",
              "      width: 32px;\n",
              "    }\n",
              "\n",
              "    .colab-df-convert:hover {\n",
              "      background-color: #E2EBFA;\n",
              "      box-shadow: 0px 1px 2px rgba(60, 64, 67, 0.3), 0px 1px 3px 1px rgba(60, 64, 67, 0.15);\n",
              "      fill: #174EA6;\n",
              "    }\n",
              "\n",
              "    [theme=dark] .colab-df-convert {\n",
              "      background-color: #3B4455;\n",
              "      fill: #D2E3FC;\n",
              "    }\n",
              "\n",
              "    [theme=dark] .colab-df-convert:hover {\n",
              "      background-color: #434B5C;\n",
              "      box-shadow: 0px 1px 3px 1px rgba(0, 0, 0, 0.15);\n",
              "      filter: drop-shadow(0px 1px 2px rgba(0, 0, 0, 0.3));\n",
              "      fill: #FFFFFF;\n",
              "    }\n",
              "  </style>\n",
              "\n",
              "      <script>\n",
              "        const buttonEl =\n",
              "          document.querySelector('#df-e576af25-1df9-4e65-bde5-ca9731149cc6 button.colab-df-convert');\n",
              "        buttonEl.style.display =\n",
              "          google.colab.kernel.accessAllowed ? 'block' : 'none';\n",
              "\n",
              "        async function convertToInteractive(key) {\n",
              "          const element = document.querySelector('#df-e576af25-1df9-4e65-bde5-ca9731149cc6');\n",
              "          const dataTable =\n",
              "            await google.colab.kernel.invokeFunction('convertToInteractive',\n",
              "                                                     [key], {});\n",
              "          if (!dataTable) return;\n",
              "\n",
              "          const docLinkHtml = 'Like what you see? Visit the ' +\n",
              "            '<a target=\"_blank\" href=https://colab.research.google.com/notebooks/data_table.ipynb>data table notebook</a>'\n",
              "            + ' to learn more about interactive tables.';\n",
              "          element.innerHTML = '';\n",
              "          dataTable['output_type'] = 'display_data';\n",
              "          await google.colab.output.renderOutput(dataTable, element);\n",
              "          const docLink = document.createElement('div');\n",
              "          docLink.innerHTML = docLinkHtml;\n",
              "          element.appendChild(docLink);\n",
              "        }\n",
              "      </script>\n",
              "    </div>\n",
              "  </div>\n",
              "  "
            ]
          },
          "metadata": {},
          "execution_count": 9
        }
      ]
    },
    {
      "cell_type": "code",
      "source": [
        "# Bivariate Analysis\n",
        "\n",
        "# Tempo vs Speechiness\n",
        "sns.scatterplot(x='Tempo', y='Speechiness', data=spotify)\n",
        "# There is no discernable visual pattern with Tempo and Speechiness\n",
        "# Confirms low corr and VIF values"
      ],
      "metadata": {
        "colab": {
          "base_uri": "https://localhost:8080/",
          "height": 297
        },
        "id": "cpOIEGfHd3Mg",
        "outputId": "7c1c740b-2a2d-47fa-d8d9-99618819389a"
      },
      "execution_count": null,
      "outputs": [
        {
          "output_type": "execute_result",
          "data": {
            "text/plain": [
              "<matplotlib.axes._subplots.AxesSubplot at 0x7fbafbbd7d50>"
            ]
          },
          "metadata": {},
          "execution_count": 10
        },
        {
          "output_type": "display_data",
          "data": {
            "text/plain": [
              "<Figure size 432x288 with 1 Axes>"
            ],
            "image/png": "[encoded data removed]"
          },
          "metadata": {
            "needs_background": "light"
          }
        }
      ]
    },
    {
      "cell_type": "code",
      "source": [
        "# Tempo vs Danceability\n",
        "sns.scatterplot(x='Tempo', y='Danceability', data=spotify)\n",
        "# There is no discernable visual pattern between Tempo and Danceability\n",
        "# Confirms low corr value"
      ],
      "metadata": {
        "colab": {
          "base_uri": "https://localhost:8080/",
          "height": 301
        },
        "id": "RvWCD9K-emfI",
        "outputId": "88edf3c9-25c5-4aa5-867e-b8135857b7e8"
      },
      "execution_count": null,
      "outputs": [
        {
          "output_type": "execute_result",
          "data": {
            "text/plain": [
              "<matplotlib.axes._subplots.AxesSubplot at 0x7fbafbb94890>"
            ]
          },
          "metadata": {},
          "execution_count": 11
        },
        {
          "output_type": "display_data",
          "data": {
            "text/plain": [
              "<Figure size 432x288 with 1 Axes>"
            ],
            "image/png": "[encoded data removed]"
          },
          "metadata": {
            "needs_background": "light"
          }
        }
      ]
    },
    {
      "cell_type": "code",
      "source": [
        "# Speechiness vs Danceability\n",
        "sns.scatterplot(x='Speechiness', y='Danceability', data=spotify)\n",
        "# No immediate pattern, however points are denser when Speechiness is lower and Danceability is higher\n",
        "# Nothing to be concerned about considering low corr value"
      ],
      "metadata": {
        "colab": {
          "base_uri": "https://localhost:8080/",
          "height": 301
        },
        "id": "EH4xWK3Ie4Eq",
        "outputId": "cbaba451-bfef-4db6-fe7b-a9406c62adb7"
      },
      "execution_count": null,
      "outputs": [
        {
          "output_type": "execute_result",
          "data": {
            "text/plain": [
              "<matplotlib.axes._subplots.AxesSubplot at 0x7fbafbb0c1d0>"
            ]
          },
          "metadata": {},
          "execution_count": 12
        },
        {
          "output_type": "display_data",
          "data": {
            "text/plain": [
              "<Figure size 432x288 with 1 Axes>"
            ],
            "image/png": "[encoded data removed]"
          },
          "metadata": {
            "needs_background": "light"
          }
        }
      ]
    },
    {
      "cell_type": "markdown",
      "source": [
        "##### Preliminary Model Creation"
      ],
      "metadata": {
        "id": "DhUbGtXnfb0g"
      }
    },
    {
      "cell_type": "code",
      "source": [
        "# Created Fitted Model\n",
        "lm_fit = smf.ols(formula='Danceability~Tempo+Speechiness', data=spotify).fit()\n",
        "lm_fit.summary()\n",
        "# The preliminary model indicates that Speechiness will affect Danceability, but Tempo will not\n",
        "# Before jumping to conclusions, assumptions need to be checked"
      ],
      "metadata": {
        "colab": {
          "base_uri": "https://localhost:8080/"
        },
        "id": "Rtx-D3l0fXX2",
        "outputId": "fae71967-d10d-420c-b846-dd241bc0541c"
      },
      "execution_count": null,
      "outputs": [
        {
          "output_type": "execute_result",
          "data": {
            "text/plain": [
              "<class 'statsmodels.iolib.summary.Summary'>\n",
              "\"\"\"\n",
              "                            OLS Regression Results                            \n",
              "==============================================================================\n",
              "Dep. Variable:           Danceability   R-squared:                       0.051\n",
              "Model:                            OLS   Adj. R-squared:                  0.041\n",
              "Method:                 Least Squares   F-statistic:                     5.262\n",
              "Date:                Fri, 29 Apr 2022   Prob (F-statistic):            0.00594\n",
              "Time:                        16:01:52   Log-Likelihood:                 116.80\n",
              "No. Observations:                 200   AIC:                            -227.6\n",
              "Df Residuals:                     197   BIC:                            -217.7\n",
              "Df Model:                           2                                         \n",
              "Covariance Type:            nonrobust                                         \n",
              "===============================================================================\n",
              "                  coef    std err          t      P>|t|      [0.025      0.975]\n",
              "-------------------------------------------------------------------------------\n",
              "Intercept       0.7031      0.041     17.095      0.000       0.622       0.784\n",
              "Tempo          -0.0003      0.000     -0.929      0.354      -0.001       0.000\n",
              "Speechiness     0.2516      0.079      3.202      0.002       0.097       0.407\n",
              "==============================================================================\n",
              "Omnibus:                       21.725   Durbin-Watson:                   1.966\n",
              "Prob(Omnibus):                  0.000   Jarque-Bera (JB):               25.387\n",
              "Skew:                          -0.804   Prob(JB):                     3.07e-06\n",
              "Kurtosis:                       3.678   Cond. No.                     1.06e+03\n",
              "==============================================================================\n",
              "\n",
              "Warnings:\n",
              "[1] Standard Errors assume that the covariance matrix of the errors is correctly specified.\n",
              "[2] The condition number is large, 1.06e+03. This might indicate that there are\n",
              "strong multicollinearity or other numerical problems.\n",
              "\"\"\""
            ],
            "text/html": [
              "<table class=\"simpletable\">\n",
              "<caption>OLS Regression Results</caption>\n",
              "<tr>\n",
              "  <th>Dep. Variable:</th>      <td>Danceability</td>   <th>  R-squared:         </th> <td>   0.051</td>\n",
              "</tr>\n",
              "<tr>\n",
              "  <th>Model:</th>                   <td>OLS</td>       <th>  Adj. R-squared:    </th> <td>   0.041</td>\n",
              "</tr>\n",
              "<tr>\n",
              "  <th>Method:</th>             <td>Least Squares</td>  <th>  F-statistic:       </th> <td>   5.262</td>\n",
              "</tr>\n",
              "<tr>\n",
              "  <th>Date:</th>             <td>Fri, 29 Apr 2022</td> <th>  Prob (F-statistic):</th>  <td>0.00594</td>\n",
              "</tr>\n",
              "<tr>\n",
              "  <th>Time:</th>                 <td>16:01:52</td>     <th>  Log-Likelihood:    </th> <td>  116.80</td>\n",
              "</tr>\n",
              "<tr>\n",
              "  <th>No. Observations:</th>      <td>   200</td>      <th>  AIC:               </th> <td>  -227.6</td>\n",
              "</tr>\n",
              "<tr>\n",
              "  <th>Df Residuals:</th>          <td>   197</td>      <th>  BIC:               </th> <td>  -217.7</td>\n",
              "</tr>\n",
              "<tr>\n",
              "  <th>Df Model:</th>              <td>     2</td>      <th>                     </th>     <td> </td>   \n",
              "</tr>\n",
              "<tr>\n",
              "  <th>Covariance Type:</th>      <td>nonrobust</td>    <th>                     </th>     <td> </td>   \n",
              "</tr>\n",
              "</table>\n",
              "<table class=\"simpletable\">\n",
              "<tr>\n",
              "       <td></td>          <th>coef</th>     <th>std err</th>      <th>t</th>      <th>P>|t|</th>  <th>[0.025</th>    <th>0.975]</th>  \n",
              "</tr>\n",
              "<tr>\n",
              "  <th>Intercept</th>   <td>    0.7031</td> <td>    0.041</td> <td>   17.095</td> <td> 0.000</td> <td>    0.622</td> <td>    0.784</td>\n",
              "</tr>\n",
              "<tr>\n",
              "  <th>Tempo</th>       <td>   -0.0003</td> <td>    0.000</td> <td>   -0.929</td> <td> 0.354</td> <td>   -0.001</td> <td>    0.000</td>\n",
              "</tr>\n",
              "<tr>\n",
              "  <th>Speechiness</th> <td>    0.2516</td> <td>    0.079</td> <td>    3.202</td> <td> 0.002</td> <td>    0.097</td> <td>    0.407</td>\n",
              "</tr>\n",
              "</table>\n",
              "<table class=\"simpletable\">\n",
              "<tr>\n",
              "  <th>Omnibus:</th>       <td>21.725</td> <th>  Durbin-Watson:     </th> <td>   1.966</td>\n",
              "</tr>\n",
              "<tr>\n",
              "  <th>Prob(Omnibus):</th> <td> 0.000</td> <th>  Jarque-Bera (JB):  </th> <td>  25.387</td>\n",
              "</tr>\n",
              "<tr>\n",
              "  <th>Skew:</th>          <td>-0.804</td> <th>  Prob(JB):          </th> <td>3.07e-06</td>\n",
              "</tr>\n",
              "<tr>\n",
              "  <th>Kurtosis:</th>      <td> 3.678</td> <th>  Cond. No.          </th> <td>1.06e+03</td>\n",
              "</tr>\n",
              "</table><br/><br/>Warnings:<br/>[1] Standard Errors assume that the covariance matrix of the errors is correctly specified.<br/>[2] The condition number is large, 1.06e+03. This might indicate that there are<br/>strong multicollinearity or other numerical problems."
            ]
          },
          "metadata": {},
          "execution_count": 13
        }
      ]
    },
    {
      "cell_type": "code",
      "source": [
        "# Normality - Anderson Darling Test\n",
        "stats.diagnostic.normal_ad(lm_fit.resid_pearson)\n",
        "# Significant p-value, reject null, normality not satisfied"
      ],
      "metadata": {
        "colab": {
          "base_uri": "https://localhost:8080/"
        },
        "id": "8KOtZdeDqmyN",
        "outputId": "6f9e1d16-d61f-4425-c5b5-251ede5e40a7"
      },
      "execution_count": null,
      "outputs": [
        {
          "output_type": "execute_result",
          "data": {
            "text/plain": [
              "(2.2450057915520745, 1.0362035817108668e-05)"
            ]
          },
          "metadata": {},
          "execution_count": 14
        }
      ]
    },
    {
      "cell_type": "code",
      "source": [
        "# Normality - QQ Plot\n",
        "smapi.qqplot(lm_fit.resid_pearson, line='45')\n",
        "plt.title('QQ Plot - Preliminary Model')\n",
        "# High deviation from ideal around both tails\n",
        "# Left skew or negative exponential distribution"
      ],
      "metadata": {
        "colab": {
          "base_uri": "https://localhost:8080/"
        },
        "id": "OYw2C3hYq3bO",
        "outputId": "2acc1601-4005-4c91-9288-c31bb4f53fbf"
      },
      "execution_count": null,
      "outputs": [
        {
          "output_type": "execute_result",
          "data": {
            "text/plain": [
              "Text(0.5, 1.0, 'QQ Plot - Preliminary Model')"
            ]
          },
          "metadata": {},
          "execution_count": 15
        },
        {
          "output_type": "display_data",
          "data": {
            "text/plain": [
              "<Figure size 432x288 with 1 Axes>"
            ],
            "image/png": "[encoded data removed]"
          },
          "metadata": {
            "needs_background": "light"
          }
        }
      ]
    },
    {
      "cell_type": "code",
      "source": [
        "# Equal Variance - Breuschpagan Test\n",
        "stats.diagnostic.het_breuschpagan(resid=lm_fit.resid_pearson, exog_het=lm_fit.model.exog)\n",
        "# Insignificant p-value, fail to reject null, equal variance satisfied"
      ],
      "metadata": {
        "colab": {
          "base_uri": "https://localhost:8080/"
        },
        "id": "CNedH4MCrqDt",
        "outputId": "da117658-48c9-4196-f0a2-a4068bfb2ea0"
      },
      "execution_count": null,
      "outputs": [
        {
          "output_type": "execute_result",
          "data": {
            "text/plain": [
              "(1.7713766069661796,\n",
              " 0.41243019841771555,\n",
              " 0.8801987967207978,\n",
              " 0.4163248938039531)"
            ]
          },
          "metadata": {},
          "execution_count": 16
        }
      ]
    },
    {
      "cell_type": "code",
      "source": [
        "# Equal Variance - Residuals vs Fitted Graph\n",
        "sns.scatterplot(x=lm_fit.fittedvalues, y=lm_fit.resid_pearson)\n",
        "plt.xlabel('Fitted Values')\n",
        "plt.ylabel('Standardized Residuals')\n",
        "plt.title('Residuals vs Fitted Graph - Preliminary Model')\n",
        "# Data is more dense toward smaller fitted values, but no true pattern observable\n",
        "# Passes visual inspection of equal variance"
      ],
      "metadata": {
        "colab": {
          "base_uri": "https://localhost:8080/"
        },
        "id": "H4W251s2r8vW",
        "outputId": "46d8c0e3-e3e9-4e5f-8ec8-4f8aba3cde76"
      },
      "execution_count": null,
      "outputs": [
        {
          "output_type": "execute_result",
          "data": {
            "text/plain": [
              "Text(0.5, 1.0, 'Residuals vs Fitted Graph - Preliminary Model')"
            ]
          },
          "metadata": {},
          "execution_count": 17
        },
        {
          "output_type": "display_data",
          "data": {
            "text/plain": [
              "<Figure size 432x288 with 1 Axes>"
            ],
            "image/png": "[encoded data removed]"
          },
          "metadata": {
            "needs_background": "light"
          }
        }
      ]
    },
    {
      "cell_type": "markdown",
      "source": [
        "##### Model Remediation\n",
        "*Preliminary model failed normality assumption*"
      ],
      "metadata": {
        "id": "0XG5RLmhs0Mq"
      }
    },
    {
      "cell_type": "code",
      "source": [
        "# Boxcox Transformation of Speechiness and Danceability\n",
        "# I chose to transform Speechiness and Danceability due to their skewed distributions\n",
        "spotify['Speechiness_bc'],_ = scistats.boxcox(spotify['Speechiness'])\n",
        "spotify['Danceability_bc'],_ = scistats.boxcox(spotify['Danceability'])\n",
        "\n",
        "# Define transformed model\n",
        "lm_bc = smf.ols(formula='Danceability_bc~Tempo+Speechiness_bc', data=spotify).fit()\n",
        "lm_bc.summary()\n",
        "# Similar to the preliminary model, Speechiness is significant while Tempo is not"
      ],
      "metadata": {
        "colab": {
          "base_uri": "https://localhost:8080/"
        },
        "id": "BZwSVTxVsxi6",
        "outputId": "50f34715-9acf-4991-9a8e-b14faa95eac9"
      },
      "execution_count": null,
      "outputs": [
        {
          "output_type": "execute_result",
          "data": {
            "text/plain": [
              "<class 'statsmodels.iolib.summary.Summary'>\n",
              "\"\"\"\n",
              "                            OLS Regression Results                            \n",
              "==============================================================================\n",
              "Dep. Variable:        Danceability_bc   R-squared:                       0.137\n",
              "Model:                            OLS   Adj. R-squared:                  0.128\n",
              "Method:                 Least Squares   F-statistic:                     15.58\n",
              "Date:                Fri, 29 Apr 2022   Prob (F-statistic):           5.21e-07\n",
              "Time:                        16:01:52   Log-Likelihood:                 215.36\n",
              "No. Observations:                 200   AIC:                            -424.7\n",
              "Df Residuals:                     197   BIC:                            -414.8\n",
              "Df Model:                           2                                         \n",
              "Covariance Type:            nonrobust                                         \n",
              "==================================================================================\n",
              "                     coef    std err          t      P>|t|      [0.025      0.975]\n",
              "----------------------------------------------------------------------------------\n",
              "Intercept         -0.1375      0.030     -4.638      0.000      -0.196      -0.079\n",
              "Tempo             -0.0003      0.000     -1.444      0.150      -0.001       0.000\n",
              "Speechiness_bc     0.0167      0.003      5.536      0.000       0.011       0.023\n",
              "==============================================================================\n",
              "Omnibus:                        2.972   Durbin-Watson:                   2.009\n",
              "Prob(Omnibus):                  0.226   Jarque-Bera (JB):                3.030\n",
              "Skew:                          -0.287   Prob(JB):                        0.220\n",
              "Kurtosis:                       2.815   Cond. No.                         653.\n",
              "==============================================================================\n",
              "\n",
              "Warnings:\n",
              "[1] Standard Errors assume that the covariance matrix of the errors is correctly specified.\n",
              "\"\"\""
            ],
            "text/html": [
              "<table class=\"simpletable\">\n",
              "<caption>OLS Regression Results</caption>\n",
              "<tr>\n",
              "  <th>Dep. Variable:</th>     <td>Danceability_bc</td> <th>  R-squared:         </th> <td>   0.137</td>\n",
              "</tr>\n",
              "<tr>\n",
              "  <th>Model:</th>                   <td>OLS</td>       <th>  Adj. R-squared:    </th> <td>   0.128</td>\n",
              "</tr>\n",
              "<tr>\n",
              "  <th>Method:</th>             <td>Least Squares</td>  <th>  F-statistic:       </th> <td>   15.58</td>\n",
              "</tr>\n",
              "<tr>\n",
              "  <th>Date:</th>             <td>Fri, 29 Apr 2022</td> <th>  Prob (F-statistic):</th> <td>5.21e-07</td>\n",
              "</tr>\n",
              "<tr>\n",
              "  <th>Time:</th>                 <td>16:01:52</td>     <th>  Log-Likelihood:    </th> <td>  215.36</td>\n",
              "</tr>\n",
              "<tr>\n",
              "  <th>No. Observations:</th>      <td>   200</td>      <th>  AIC:               </th> <td>  -424.7</td>\n",
              "</tr>\n",
              "<tr>\n",
              "  <th>Df Residuals:</th>          <td>   197</td>      <th>  BIC:               </th> <td>  -414.8</td>\n",
              "</tr>\n",
              "<tr>\n",
              "  <th>Df Model:</th>              <td>     2</td>      <th>                     </th>     <td> </td>   \n",
              "</tr>\n",
              "<tr>\n",
              "  <th>Covariance Type:</th>      <td>nonrobust</td>    <th>                     </th>     <td> </td>   \n",
              "</tr>\n",
              "</table>\n",
              "<table class=\"simpletable\">\n",
              "<tr>\n",
              "         <td></td>           <th>coef</th>     <th>std err</th>      <th>t</th>      <th>P>|t|</th>  <th>[0.025</th>    <th>0.975]</th>  \n",
              "</tr>\n",
              "<tr>\n",
              "  <th>Intercept</th>      <td>   -0.1375</td> <td>    0.030</td> <td>   -4.638</td> <td> 0.000</td> <td>   -0.196</td> <td>   -0.079</td>\n",
              "</tr>\n",
              "<tr>\n",
              "  <th>Tempo</th>          <td>   -0.0003</td> <td>    0.000</td> <td>   -1.444</td> <td> 0.150</td> <td>   -0.001</td> <td>    0.000</td>\n",
              "</tr>\n",
              "<tr>\n",
              "  <th>Speechiness_bc</th> <td>    0.0167</td> <td>    0.003</td> <td>    5.536</td> <td> 0.000</td> <td>    0.011</td> <td>    0.023</td>\n",
              "</tr>\n",
              "</table>\n",
              "<table class=\"simpletable\">\n",
              "<tr>\n",
              "  <th>Omnibus:</th>       <td> 2.972</td> <th>  Durbin-Watson:     </th> <td>   2.009</td>\n",
              "</tr>\n",
              "<tr>\n",
              "  <th>Prob(Omnibus):</th> <td> 0.226</td> <th>  Jarque-Bera (JB):  </th> <td>   3.030</td>\n",
              "</tr>\n",
              "<tr>\n",
              "  <th>Skew:</th>          <td>-0.287</td> <th>  Prob(JB):          </th> <td>   0.220</td>\n",
              "</tr>\n",
              "<tr>\n",
              "  <th>Kurtosis:</th>      <td> 2.815</td> <th>  Cond. No.          </th> <td>    653.</td>\n",
              "</tr>\n",
              "</table><br/><br/>Warnings:<br/>[1] Standard Errors assume that the covariance matrix of the errors is correctly specified."
            ]
          },
          "metadata": {},
          "execution_count": 18
        }
      ]
    },
    {
      "cell_type": "code",
      "source": [
        "# Re-check Normality - Anderson Darling Test\n",
        "stats.diagnostic.normal_ad(lm_bc.resid_pearson)\n",
        "# Insignificant p-value, fail to reject null, normality satisfied"
      ],
      "metadata": {
        "colab": {
          "base_uri": "https://localhost:8080/"
        },
        "id": "VwlFoA6EuU-6",
        "outputId": "14a88be9-72c5-4c46-b5fc-6d6bda6c7fbd"
      },
      "execution_count": null,
      "outputs": [
        {
          "output_type": "execute_result",
          "data": {
            "text/plain": [
              "(0.6575212879065475, 0.0849005978871714)"
            ]
          },
          "metadata": {},
          "execution_count": 19
        }
      ]
    },
    {
      "cell_type": "code",
      "source": [
        "# Re-check Normality - QQ Plot\n",
        "smapi.qqplot(lm_bc.resid_pearson, line='45')\n",
        "plt.title('QQ Plot - Remediated Model')\n",
        "# The QQ plot passes the visual inspection due to little deviance from ideal line, normality satisfied"
      ],
      "metadata": {
        "colab": {
          "base_uri": "https://localhost:8080/"
        },
        "id": "9N7_3nmaurFH",
        "outputId": "0a23796f-ed8f-4f2d-981a-9b4b36f9d986"
      },
      "execution_count": null,
      "outputs": [
        {
          "output_type": "execute_result",
          "data": {
            "text/plain": [
              "Text(0.5, 1.0, 'QQ Plot - Remediated Model')"
            ]
          },
          "metadata": {},
          "execution_count": 20
        },
        {
          "output_type": "display_data",
          "data": {
            "text/plain": [
              "<Figure size 432x288 with 1 Axes>"
            ],
            "image/png": "[encoded data removed]"
          },
          "metadata": {
            "needs_background": "light"
          }
        }
      ]
    },
    {
      "cell_type": "code",
      "source": [
        "# Re-check Equal Variance - Breuschpagan Test\n",
        "stats.diagnostic.het_breuschpagan(resid=lm_bc.resid_pearson, exog_het=lm_bc.model.exog)\n",
        "# Insignificant p-value, fail to reject null, equal variance satisfied"
      ],
      "metadata": {
        "colab": {
          "base_uri": "https://localhost:8080/"
        },
        "id": "os4z4KNwvEDz",
        "outputId": "709851bf-1d9a-49df-cf37-66f5daf61ce2"
      },
      "execution_count": null,
      "outputs": [
        {
          "output_type": "execute_result",
          "data": {
            "text/plain": [
              "(2.7762976922317772,\n",
              " 0.2495368083747076,\n",
              " 1.3865743289723225,\n",
              " 0.2523582362913707)"
            ]
          },
          "metadata": {},
          "execution_count": 21
        }
      ]
    },
    {
      "cell_type": "code",
      "source": [
        "# Re-check Equal Variance - Residuals vs Fitted Graph\n",
        "sns.scatterplot(x=lm_bc.fittedvalues, y=lm_bc.resid_pearson)\n",
        "plt.xlabel('Fitted Values')\n",
        "plt.ylabel('Standardized Residuals')\n",
        "plt.title('Residuals vs Fitted Graph - Remediated Model')\n",
        "# Very equal dispersion of point throughout the graph, no discernable pattern, equal variance satisfied"
      ],
      "metadata": {
        "colab": {
          "base_uri": "https://localhost:8080/"
        },
        "id": "xyZYGAn1vWcl",
        "outputId": "6a9cb1b2-ea0c-42d6-e29e-f1d41b79d03e"
      },
      "execution_count": null,
      "outputs": [
        {
          "output_type": "execute_result",
          "data": {
            "text/plain": [
              "Text(0.5, 1.0, 'Residuals vs Fitted Graph - Remediated Model')"
            ]
          },
          "metadata": {},
          "execution_count": 22
        },
        {
          "output_type": "display_data",
          "data": {
            "text/plain": [
              "<Figure size 432x288 with 1 Axes>"
            ],
            "image/png": "[encoded data removed]"
          },
          "metadata": {
            "needs_background": "light"
          }
        }
      ]
    },
    {
      "cell_type": "markdown",
      "source": [
        "##### Final Model Interpretation"
      ],
      "metadata": {
        "id": "PqzsuhIYwBEK"
      }
    },
    {
      "cell_type": "code",
      "source": [
        "lm_bc.summary()"
      ],
      "metadata": {
        "colab": {
          "base_uri": "https://localhost:8080/",
          "height": 473
        },
        "id": "NNF_ODGWvs0O",
        "outputId": "1b9b86b0-d05a-434e-d66f-a1d04df49b56"
      },
      "execution_count": null,
      "outputs": [
        {
          "output_type": "execute_result",
          "data": {
            "text/plain": [
              "<class 'statsmodels.iolib.summary.Summary'>\n",
              "\"\"\"\n",
              "                            OLS Regression Results                            \n",
              "==============================================================================\n",
              "Dep. Variable:        Danceability_bc   R-squared:                       0.137\n",
              "Model:                            OLS   Adj. R-squared:                  0.128\n",
              "Method:                 Least Squares   F-statistic:                     15.58\n",
              "Date:                Fri, 29 Apr 2022   Prob (F-statistic):           5.21e-07\n",
              "Time:                        16:01:53   Log-Likelihood:                 215.36\n",
              "No. Observations:                 200   AIC:                            -424.7\n",
              "Df Residuals:                     197   BIC:                            -414.8\n",
              "Df Model:                           2                                         \n",
              "Covariance Type:            nonrobust                                         \n",
              "==================================================================================\n",
              "                     coef    std err          t      P>|t|      [0.025      0.975]\n",
              "----------------------------------------------------------------------------------\n",
              "Intercept         -0.1375      0.030     -4.638      0.000      -0.196      -0.079\n",
              "Tempo             -0.0003      0.000     -1.444      0.150      -0.001       0.000\n",
              "Speechiness_bc     0.0167      0.003      5.536      0.000       0.011       0.023\n",
              "==============================================================================\n",
              "Omnibus:                        2.972   Durbin-Watson:                   2.009\n",
              "Prob(Omnibus):                  0.226   Jarque-Bera (JB):                3.030\n",
              "Skew:                          -0.287   Prob(JB):                        0.220\n",
              "Kurtosis:                       2.815   Cond. No.                         653.\n",
              "==============================================================================\n",
              "\n",
              "Warnings:\n",
              "[1] Standard Errors assume that the covariance matrix of the errors is correctly specified.\n",
              "\"\"\""
            ],
            "text/html": [
              "<table class=\"simpletable\">\n",
              "<caption>OLS Regression Results</caption>\n",
              "<tr>\n",
              "  <th>Dep. Variable:</th>     <td>Danceability_bc</td> <th>  R-squared:         </th> <td>   0.137</td>\n",
              "</tr>\n",
              "<tr>\n",
              "  <th>Model:</th>                   <td>OLS</td>       <th>  Adj. R-squared:    </th> <td>   0.128</td>\n",
              "</tr>\n",
              "<tr>\n",
              "  <th>Method:</th>             <td>Least Squares</td>  <th>  F-statistic:       </th> <td>   15.58</td>\n",
              "</tr>\n",
              "<tr>\n",
              "  <th>Date:</th>             <td>Fri, 29 Apr 2022</td> <th>  Prob (F-statistic):</th> <td>5.21e-07</td>\n",
              "</tr>\n",
              "<tr>\n",
              "  <th>Time:</th>                 <td>16:01:53</td>     <th>  Log-Likelihood:    </th> <td>  215.36</td>\n",
              "</tr>\n",
              "<tr>\n",
              "  <th>No. Observations:</th>      <td>   200</td>      <th>  AIC:               </th> <td>  -424.7</td>\n",
              "</tr>\n",
              "<tr>\n",
              "  <th>Df Residuals:</th>          <td>   197</td>      <th>  BIC:               </th> <td>  -414.8</td>\n",
              "</tr>\n",
              "<tr>\n",
              "  <th>Df Model:</th>              <td>     2</td>      <th>                     </th>     <td> </td>   \n",
              "</tr>\n",
              "<tr>\n",
              "  <th>Covariance Type:</th>      <td>nonrobust</td>    <th>                     </th>     <td> </td>   \n",
              "</tr>\n",
              "</table>\n",
              "<table class=\"simpletable\">\n",
              "<tr>\n",
              "         <td></td>           <th>coef</th>     <th>std err</th>      <th>t</th>      <th>P>|t|</th>  <th>[0.025</th>    <th>0.975]</th>  \n",
              "</tr>\n",
              "<tr>\n",
              "  <th>Intercept</th>      <td>   -0.1375</td> <td>    0.030</td> <td>   -4.638</td> <td> 0.000</td> <td>   -0.196</td> <td>   -0.079</td>\n",
              "</tr>\n",
              "<tr>\n",
              "  <th>Tempo</th>          <td>   -0.0003</td> <td>    0.000</td> <td>   -1.444</td> <td> 0.150</td> <td>   -0.001</td> <td>    0.000</td>\n",
              "</tr>\n",
              "<tr>\n",
              "  <th>Speechiness_bc</th> <td>    0.0167</td> <td>    0.003</td> <td>    5.536</td> <td> 0.000</td> <td>    0.011</td> <td>    0.023</td>\n",
              "</tr>\n",
              "</table>\n",
              "<table class=\"simpletable\">\n",
              "<tr>\n",
              "  <th>Omnibus:</th>       <td> 2.972</td> <th>  Durbin-Watson:     </th> <td>   2.009</td>\n",
              "</tr>\n",
              "<tr>\n",
              "  <th>Prob(Omnibus):</th> <td> 0.226</td> <th>  Jarque-Bera (JB):  </th> <td>   3.030</td>\n",
              "</tr>\n",
              "<tr>\n",
              "  <th>Skew:</th>          <td>-0.287</td> <th>  Prob(JB):          </th> <td>   0.220</td>\n",
              "</tr>\n",
              "<tr>\n",
              "  <th>Kurtosis:</th>      <td> 2.815</td> <th>  Cond. No.          </th> <td>    653.</td>\n",
              "</tr>\n",
              "</table><br/><br/>Warnings:<br/>[1] Standard Errors assume that the covariance matrix of the errors is correctly specified."
            ]
          },
          "metadata": {},
          "execution_count": 23
        }
      ]
    },
    {
      "cell_type": "markdown",
      "source": [
        "Model Summary Interpretation:\n",
        "<br>\n",
        "<br>\n",
        "* Variable Significance\n",
        "  * **Significant**\n",
        "    * **Speech_bc (p-value=0.000)**\n",
        "  * **Insignificant**\n",
        "    * **Tempo (p-value=0.150)**\n",
        "  <br>\n",
        "  <br>\n",
        "* Regression Equation\n",
        "  * **y = -0.1375 + 0.0167x1**\n",
        "  * **Where y = Dance_bc and x1 = Speech_bc**\n",
        "  <br>\n",
        "  <br>\n",
        "* Significant Coefficient Interpretation\n",
        "  * **The slope was 0.0167 for the boxcox transformed Speech_bc variable**\n",
        "  * **Speech_bc was significantly related to the boxcox transformed response variable, Dance_bc**\n",
        "  <br>\n",
        "  <br>\n",
        "* Overall Model Significance\n",
        "  * **df1=2**\n",
        "  * **df2=197**\n",
        "  * **F-stat=15.58**\n",
        "  * **Critical value for 2,197 = 2.3026**\n",
        "  * **Because the F-stat is greater than the corresponding critical value, we can reject the null hypothesis and conclude that the model is significant**\n",
        "  <br>\n",
        "  <br>\n",
        "* R-Squared Interpretation\n",
        "  * **The R-Squared value was 0.137 indicating that about 13.7% of the data fit the regression model. This value isn't great, but may be attributable to items such as outliers. It may be important to note that the bc_fit2 model yielded a p-value of 0.08 on the Anderson Darling normality test implying that it just barely could be considered normal. Further data cleaning techniques may be required to ensure greater normality is followed, thus potentially allowing the model to fit a greater percentage of the data.**"
      ],
      "metadata": {
        "id": "bQiUbyI_EJ5Z"
      }
    }
  ]
}